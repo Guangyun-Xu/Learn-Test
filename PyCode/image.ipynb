{
 "cells": [
  {
   "cell_type": "code",
   "execution_count": 3,
   "metadata": {
    "collapsed": true
   },
   "outputs": [
    {
     "name": "stdout",
     "output_type": "stream",
     "text": [
      "12568\n",
      "4545\n"
     ]
    }
   ],
   "source": [
    "import numpy as np\n",
    "from PIL import Image\n",
    "import os\n",
    "\n",
    "folderName = '/media/yumi/Datas/6D_Dataset/BOP_Dataste/lm-o/train_pbr/000000'\n",
    "sceneId1 = '000000'\n",
    "\n",
    "depthPath = os.path.join(folderName, \"depth/{}.png\".format('000001'))\n",
    "\n",
    "with Image.open(depthPath) as di:\n",
    "    dpt = np.array(di)\n",
    "    print(dpt.max())\n",
    "    print(dpt.min())    # BOP中的深度以0.1mm为单位"
   ]
  },
  {
   "cell_type": "code",
   "execution_count": null,
   "outputs": [],
   "source": [
    "\n"
   ],
   "metadata": {
    "collapsed": false,
    "pycharm": {
     "name": "#%%\n"
    }
   }
  }
 ],
 "metadata": {
  "kernelspec": {
   "display_name": "Python 3",
   "language": "python",
   "name": "python3"
  },
  "language_info": {
   "codemirror_mode": {
    "name": "ipython",
    "version": 2
   },
   "file_extension": ".py",
   "mimetype": "text/x-python",
   "name": "python",
   "nbconvert_exporter": "python",
   "pygments_lexer": "ipython2",
   "version": "2.7.6"
  }
 },
 "nbformat": 4,
 "nbformat_minor": 0
}