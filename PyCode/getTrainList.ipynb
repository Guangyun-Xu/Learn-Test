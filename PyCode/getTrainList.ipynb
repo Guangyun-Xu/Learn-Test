{
 "cells": [
  {
   "cell_type": "markdown",
   "metadata": {
    "collapsed": true,
    "pycharm": {
     "name": "#%% md\n"
    }
   },
   "source": [
    "从训练数据所在文件夹中生训练数据的List"
   ]
  },
  {
   "cell_type": "code",
   "execution_count": 1,
   "outputs": [
    {
     "name": "stdout",
     "output_type": "stream",
     "text": [
      "['000020', '000000', '000001', '000002', '000003', '000004', '000005', '000006', '000007', '000008', '000009', '000010', '000011', '000012', '000013', '000014', '000015', '000016', '000017', '000018', '000019', '000021', '000022', '000023', '000024', '000025', '000026', '000027', '000028', '000029', '000030', '000031', '000032', '000033', '000034', '000035', '000036', '000037', '000038', '000039', '000040', '000041', '000042', '000043', '000044', '000045', '000046', '000047', '000048', '000049']\n"
     ]
    }
   ],
   "source": [
    "import os\n",
    "\n",
    "trainPath = '/media/yumi/Datas/6D_Dataset/BOP_Dataste/lm-o/train_pbr'\n",
    "files = os.listdir(trainPath)\n",
    "print(files)"
   ],
   "metadata": {
    "collapsed": false,
    "pycharm": {
     "name": "#%%\n"
    }
   }
  },
  {
   "cell_type": "code",
   "execution_count": 15,
   "outputs": [],
   "source": [
    "import json\n",
    "trainListPath = os.path.join(trainPath, 'trainList_2.txt')\n",
    "trainList = open(trainListPath, 'w')\n",
    "for subFile in files:\n",
    "    labelPath = os.path.join(trainPath, subFile, 'scene_gt.json')\n",
    "    #print(labelPath)\n",
    "    with open(labelPath, 'r') as f:\n",
    "        data = json.load(f)\n",
    "        for i in data:\n",
    "            # print(i)\n",
    "            scenceKey = str(i)\n",
    "            scene = data[scenceKey]\n",
    "            for obj in scene:\n",
    "                objId = obj['obj_id']\n",
    "                if objId == 2:\n",
    "                    sceneId = \"/{:0>4d}\".format(int(i))\n",
    "                    scenePath = \"{}{}\".format(subFile, sceneId)\n",
    "                    # print(scenePath)\n",
    "                    line = scenePath + '\\n'\n",
    "                    trainList.write(line)\n",
    "\n",
    "\n",
    "\n"
   ],
   "metadata": {
    "collapsed": false,
    "pycharm": {
     "name": "#%%\n"
    }
   }
  },
  {
   "cell_type": "code",
   "execution_count": null,
   "outputs": [],
   "source": [
    "\n"
   ],
   "metadata": {
    "collapsed": false,
    "pycharm": {
     "name": "#%%\n"
    }
   }
  }
 ],
 "metadata": {
  "kernelspec": {
   "display_name": "Python 3",
   "language": "python",
   "name": "python3"
  },
  "language_info": {
   "codemirror_mode": {
    "name": "ipython",
    "version": 2
   },
   "file_extension": ".py",
   "mimetype": "text/x-python",
   "name": "python",
   "nbconvert_exporter": "python",
   "pygments_lexer": "ipython2",
   "version": "2.7.6"
  }
 },
 "nbformat": 4,
 "nbformat_minor": 0
}