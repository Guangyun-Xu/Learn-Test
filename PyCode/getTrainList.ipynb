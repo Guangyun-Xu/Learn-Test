{
 "cells": [
  {
   "cell_type": "markdown",
   "metadata": {
    "collapsed": true,
    "pycharm": {
     "name": "#%% md\n"
    }
   },
   "source": [
    "从训练数据所在文件夹中生训练数据的List"
   ]
  },
  {
   "cell_type": "code",
   "execution_count": 36,
   "outputs": [
    {
     "name": "stdout",
     "output_type": "stream",
     "text": [
      "['000020', '000000', '000001', '000002', '000003', '000004', '000005', '000006', '000007', '000008', '000009', '000010', '000011', '000012', '000013', '000014', '000015', '000016', '000017', '000018', '000019', '000021', '000022', '000023', '000024', '000025', '000026', '000027', '000028', '000029', '000030', '000031', '000032', '000033', '000034', '000035', '000036', '000037', '000038', '000039', '000040', '000041', '000042', '000043', '000044', '000045', '000046', '000047', '000048', '000049', 'maskList_2.txt', 'trainList_2.txt']\n"
     ]
    }
   ],
   "source": [
    "import os\n",
    "\n",
    "trainPath = '/media/yumi/Datas/6D_Dataset/BOP_Dataste/lm-o/train_pbr'\n",
    "files = os.listdir(trainPath)\n",
    "print(files)"
   ],
   "metadata": {
    "collapsed": false,
    "pycharm": {
     "name": "#%%\n"
    }
   }
  },
  {
   "cell_type": "code",
   "execution_count": 37,
   "outputs": [],
   "source": [
    "import json\n",
    "trainListPath = os.path.join(trainPath, 'trainList_2.txt')\n",
    "maskListPath = os.path.join(trainPath, 'maskList_2.txt')\n",
    "trainList = open(trainListPath, 'w')\n",
    "maskList = open(maskListPath, 'w')\n",
    "for subFile in files:\n",
    "    if os.path.isdir(os.path.join(trainPath, subFile)):\n",
    "        labelPath = os.path.join(trainPath, subFile, 'scene_gt.json')\n",
    "        with open(labelPath, 'r') as f:\n",
    "            data = json.load(f)\n",
    "            for i in data:\n",
    "                # print(i)\n",
    "                sceneKey = str(i)\n",
    "                scene = data[sceneKey]\n",
    "                for j, obj in enumerate(scene):\n",
    "                    objId = obj['obj_id']\n",
    "                    if objId == 2:\n",
    "                        objMaskId = \"{:0>6d}\".format(int(j))\n",
    "                        sceneId = \"{:0>6d}\".format(int(i))\n",
    "                        scenePath = \"{} {}\".format(subFile, sceneId)\n",
    "                        maskPath = \"{} {}_{}\".format(subFile, sceneId, objMaskId)\n",
    "                        # print(scenePath)\n",
    "                        lineScene = scenePath + '\\n'\n",
    "                        lineMask = maskPath + '\\n'\n",
    "                        trainList.write(lineScene)\n",
    "                        maskList.write(lineMask)\n",
    "\n",
    "\n",
    "\n",
    "\n"
   ],
   "metadata": {
    "collapsed": false,
    "pycharm": {
     "name": "#%%\n"
    }
   }
  },
  {
   "cell_type": "code",
   "execution_count": 38,
   "outputs": [],
   "source": [
    "with open(trainListPath, 'r') as data:\n",
    "    for line in data:\n",
    "        line1 = line.rstrip()  # remove '\\n', r->right\n",
    "        line2 = line.strip()\n",
    "        word = line1.split()\n",
    "\n"
   ],
   "metadata": {
    "collapsed": false,
    "pycharm": {
     "name": "#%%\n"
    }
   }
  },
  {
   "cell_type": "code",
   "execution_count": 44,
   "outputs": [],
   "source": [
    "folderPath = '/media/yumi/Datas/6D_Dataset/BOP_Dataste/lm-o/train_pbr/000000'\n",
    "sceneId1 = '000000'\n",
    "obj_id = '1'\n",
    "def get_meta_data(folderPath, sceneId, obj_id):\n",
    "    metaFilePath = os.path.join(folderPath, \"scene_gt.json\")\n",
    "    with open(metaFilePath, 'r') as f1:\n",
    "        mateDate = json.load(f1)\n",
    "        sceneId = sceneId.lstrip('0')\n",
    "        if sceneId == '':\n",
    "            sceneId = '0'\n",
    "        sceneMateDate = mateDate[sceneId]\n",
    "        for objMeta in sceneMateDate:\n",
    "            if objMeta['obj_id'] == int(obj_id):\n",
    "                return objMeta\n",
    "\n",
    "\n",
    "\n",
    "\n",
    "meta = get_meta_data(folderPath, sceneId1, obj_id)\n",
    "\n",
    "\n",
    "\n",
    "\n"
   ],
   "metadata": {
    "collapsed": false,
    "pycharm": {
     "name": "#%%\n"
    }
   }
  },
  {
   "cell_type": "code",
   "execution_count": 39,
   "outputs": [],
   "source": [
    "\n"
   ],
   "metadata": {
    "collapsed": false,
    "pycharm": {
     "name": "#%%\n"
    }
   }
  }
 ],
 "metadata": {
  "kernelspec": {
   "display_name": "Python 3",
   "language": "python",
   "name": "python3"
  },
  "language_info": {
   "codemirror_mode": {
    "name": "ipython",
    "version": 2
   },
   "file_extension": ".py",
   "mimetype": "text/x-python",
   "name": "python",
   "nbconvert_exporter": "python",
   "pygments_lexer": "ipython2",
   "version": "2.7.6"
  }
 },
 "nbformat": 4,
 "nbformat_minor": 0
}