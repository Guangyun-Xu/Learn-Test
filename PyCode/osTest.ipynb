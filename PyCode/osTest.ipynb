{
 "cells": [
  {
   "cell_type": "markdown",
   "metadata": {
    "collapsed": true,
    "pycharm": {
     "name": "#%% md\n"
    }
   },
   "source": [
    "读取文件夹下的所有文件名"
   ]
  },
  {
   "cell_type": "code",
   "execution_count": 1,
   "outputs": [
    {
     "name": "stdout",
     "output_type": "stream",
     "text": [
      "['para6700PCTrans.ply', '040_large_marker', '12.9.ply', '624.ply', 'b1.ply', 'Background.pcd', 'bar_clamp.ply', 'bar_clamp0629.ply', 'bar_clamp_normal.ply', 'cloud_cluster_0.ply', 'cloud_cluster_1.ply', 'cloud_cluster_2.ply', 'cloud_cluster_3.ply', 'cloud_cluster_4.ply', 'Data', 'Data12.25', 'foreground_normal.ply', 'foreground_normal1.ply', 'forground0628.ply', 'gripper.ply', 'model', 'MyPCLCloud.pcd', 'PaseThrough.ply', 'PaseThrough_normal.ply', 'PCandNormal1.ply', 'PhoXiPointCloud1.ply', 'PhoXiPointCloud1212.ply', 'PointCloud1212.png', 'pt1.pcd', 'rgb.bmp', 'sampleFramePly1213.ply', 'scene', 'text.pcd', 'text1.pcd', 'Texture.png', 'Texture_normalize.png', 'x.pt', 'xy.pt', 'yumi']\n"
     ]
    }
   ],
   "source": [
    "import os\n",
    "path = '/home/yumi/Desktop/SampleDate'\n",
    "files = os.listdir(path)  # 包括路径下的文件夹\n",
    "print(files)"
   ],
   "metadata": {
    "collapsed": false,
    "pycharm": {
     "name": "#%%\n"
    }
   }
  },
  {
   "cell_type": "code",
   "execution_count": 7,
   "outputs": [
    {
     "name": "stdout",
     "output_type": "stream",
     "text": [
      "/home/yumi/Desktop/SampleDate/040_large_marker\n",
      "/home/yumi/Desktop/SampleDate/Data\n",
      "/home/yumi/Desktop/SampleDate/model\n",
      "/home/yumi/Desktop/SampleDate/scene\n",
      "/home/yumi/Desktop/SampleDate/yumi\n"
     ]
    }
   ],
   "source": [
    "for i, file in enumerate(files):\n",
    "    #print(file)\n",
    "    file = os.path.join(path, file)\n",
    "    if os.path.isdir(file):\n",
    "        print(file)\n",
    "        del files[i]"
   ],
   "metadata": {
    "collapsed": false,
    "pycharm": {
     "name": "#%%\n"
    }
   }
  },
  {
   "cell_type": "code",
   "execution_count": 8,
   "outputs": [
    {
     "name": "stdout",
     "output_type": "stream",
     "text": [
      "para6700PCTrans.ply\n",
      "12.9.ply\n",
      "624.ply\n",
      "b1.ply\n",
      "Background.pcd\n",
      "bar_clamp.ply\n",
      "bar_clamp0629.ply\n",
      "bar_clamp_normal.ply\n",
      "cloud_cluster_0.ply\n",
      "cloud_cluster_1.ply\n",
      "cloud_cluster_2.ply\n",
      "cloud_cluster_3.ply\n",
      "cloud_cluster_4.ply\n",
      "Data12.25\n",
      "foreground_normal.ply\n",
      "foreground_normal1.ply\n",
      "forground0628.ply\n",
      "gripper.ply\n",
      "MyPCLCloud.pcd\n",
      "PaseThrough.ply\n",
      "PaseThrough_normal.ply\n",
      "PCandNormal1.ply\n",
      "PhoXiPointCloud1.ply\n",
      "PhoXiPointCloud1212.ply\n",
      "PointCloud1212.png\n",
      "pt1.pcd\n",
      "rgb.bmp\n",
      "sampleFramePly1213.ply\n",
      "text.pcd\n",
      "text1.pcd\n",
      "Texture.png\n",
      "Texture_normalize.png\n",
      "x.pt\n",
      "xy.pt\n"
     ]
    }
   ],
   "source": [
    "for i, file in enumerate(files):\n",
    "    print(file)\n",
    "\n"
   ],
   "metadata": {
    "collapsed": false,
    "pycharm": {
     "name": "#%%\n"
    }
   }
  },
  {
   "cell_type": "code",
   "execution_count": 9,
   "outputs": [
    {
     "name": "stdout",
     "output_type": "stream",
     "text": [
      "15\n"
     ]
    }
   ],
   "source": [
    "idx = files[0].find('.')\n",
    "print(idx)\n",
    "\n"
   ],
   "metadata": {
    "collapsed": false,
    "pycharm": {
     "name": "#%%\n"
    }
   }
  },
  {
   "cell_type": "code",
   "execution_count": 10,
   "outputs": [
    {
     "name": "stdout",
     "output_type": "stream",
     "text": [
      "para6700PCTrans\n"
     ]
    }
   ],
   "source": [
    "name = files[0][0:idx]\n",
    "print(name)"
   ],
   "metadata": {
    "collapsed": false,
    "pycharm": {
     "name": "#%%\n"
    }
   }
  },
  {
   "cell_type": "code",
   "execution_count": null,
   "outputs": [],
   "source": [
    "\n"
   ],
   "metadata": {
    "collapsed": false,
    "pycharm": {
     "name": "#%%\n"
    }
   }
  }
 ],
 "metadata": {
  "kernelspec": {
   "display_name": "Python 3",
   "language": "python",
   "name": "python3"
  },
  "language_info": {
   "codemirror_mode": {
    "name": "ipython",
    "version": 2
   },
   "file_extension": ".py",
   "mimetype": "text/x-python",
   "name": "python",
   "nbconvert_exporter": "python",
   "pygments_lexer": "ipython2",
   "version": "2.7.6"
  }
 },
 "nbformat": 4,
 "nbformat_minor": 0
}