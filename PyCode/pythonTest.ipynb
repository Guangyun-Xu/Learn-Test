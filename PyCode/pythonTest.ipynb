{
 "cells": [
  {
   "cell_type": "code",
   "execution_count": 3,
   "metadata": {
    "collapsed": true
   },
   "outputs": [
    {
     "name": "stdout",
     "output_type": "stream",
     "text": [
      "[[0.60026415 0.2676508  0.63300925]\n",
      " [0.46935436 0.66764286 0.9692209 ]\n",
      " [0.77085518 0.25122843 0.61154902]\n",
      " [0.22468885 0.82946159 0.51153034]\n",
      " [0.86640889 0.09781712 0.74908847]\n",
      " [0.4369943  0.46324704 0.34509958]\n",
      " [0.83892961 0.63695474 0.14389116]\n",
      " [0.88471942 0.81723368 0.04864139]\n",
      " [0.77082892 0.58280764 0.82191027]\n",
      " [0.70335632 0.61563859 0.20602683]]\n"
     ]
    }
   ],
   "source": [
    "import numpy as np\n",
    "normal = np.random.random((10,3))\n",
    "print(normal)"
   ]
  },
  {
   "cell_type": "code",
   "execution_count": null,
   "outputs": [],
   "source": [
    "\n"
   ],
   "metadata": {
    "collapsed": false,
    "pycharm": {
     "name": "#%%\n"
    }
   }
  }
 ],
 "metadata": {
  "kernelspec": {
   "display_name": "Python 3",
   "language": "python",
   "name": "python3"
  },
  "language_info": {
   "codemirror_mode": {
    "name": "ipython",
    "version": 2
   },
   "file_extension": ".py",
   "mimetype": "text/x-python",
   "name": "python",
   "nbconvert_exporter": "python",
   "pygments_lexer": "ipython2",
   "version": "2.7.6"
  }
 },
 "nbformat": 4,
 "nbformat_minor": 0
}