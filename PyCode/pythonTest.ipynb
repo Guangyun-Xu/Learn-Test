{
 "cells": [
  {
   "cell_type": "code",
   "execution_count": 1,
   "metadata": {
    "collapsed": true
   },
   "outputs": [
    {
     "name": "stdout",
     "output_type": "stream",
     "text": [
      "[[0.29322035 0.77992922 0.62802376]\n",
      " [0.40925301 0.91746454 0.38437789]\n",
      " [0.28549793 0.51150348 0.88312119]\n",
      " [0.57060073 0.7502816  0.5769995 ]\n",
      " [0.96963066 0.82787029 0.04621573]\n",
      " [0.33236104 0.63732544 0.39241475]\n",
      " [0.45546056 0.31864645 0.9563949 ]\n",
      " [0.95695763 0.70489126 0.09205053]\n",
      " [0.27995474 0.37074695 0.551313  ]\n",
      " [0.4551291  0.76748843 0.68817473]]\n"
     ]
    }
   ],
   "source": [
    "import numpy as np\n",
    "normal = np.random.random((10,3))\n",
    "print(normal)"
   ]
  },
  {
   "cell_type": "markdown",
   "source": [
    "numpy.flatten()作用:"
   ],
   "metadata": {
    "collapsed": false,
    "pycharm": {
     "name": "#%% md\n"
    }
   }
  },
  {
   "cell_type": "code",
   "execution_count": 2,
   "outputs": [
    {
     "name": "stdout",
     "output_type": "stream",
     "text": [
      "[[False False False]\n",
      " [False False  True]\n",
      " [ True  True  True]\n",
      " [ True  True  True]]\n",
      "[ 5  6  7  8  9 10 11]\n",
      "[ 1  2  3  4  5  6  7  8 10 11 12 13]\n"
     ]
    }
   ],
   "source": [
    "a = np.array([[1, 2, 3], [4, 5, 6],[7, 8, 10],[11, 12, 13]])\n",
    "b = a > 5 #\n",
    "print(b)\n",
    "c = b.flatten().nonzero()[0]\n",
    "print(c)\n",
    "d = a.flatten()\n",
    "print(d)\n",
    "\n"
   ],
   "metadata": {
    "collapsed": false,
    "pycharm": {
     "name": "#%%\n"
    }
   }
  },
  {
   "cell_type": "code",
   "execution_count": 3,
   "outputs": [
    {
     "name": "stdout",
     "output_type": "stream",
     "text": [
      "[ 6  7  8 10 11 12 13]\n"
     ]
    }
   ],
   "source": [
    "e = a.flatten()[c]\n",
    "print(e)\n",
    "\n"
   ],
   "metadata": {
    "collapsed": false,
    "pycharm": {
     "name": "#%%\n"
    }
   }
  },
  {
   "cell_type": "code",
   "execution_count": 4,
   "outputs": [
    {
     "name": "stdout",
     "output_type": "stream",
     "text": [
      "[[ 6]\n",
      " [ 7]\n",
      " [ 8]\n",
      " [10]\n",
      " [11]\n",
      " [12]\n",
      " [13]]\n"
     ]
    }
   ],
   "source": [
    "f = e[:, None]\n",
    "print(f)\n",
    "\n"
   ],
   "metadata": {
    "collapsed": false,
    "pycharm": {
     "name": "#%%\n"
    }
   }
  },
  {
   "cell_type": "code",
   "execution_count": 5,
   "outputs": [
    {
     "name": "stdout",
     "output_type": "stream",
     "text": [
      "[[ 6]\n",
      " [ 7]\n",
      " [ 8]\n",
      " [10]\n",
      " [11]\n",
      " [12]\n",
      " [13]]\n"
     ]
    }
   ],
   "source": [
    "f = e[:, np.newaxis]\n",
    "print(f)"
   ],
   "metadata": {
    "collapsed": false,
    "pycharm": {
     "name": "#%%\n"
    }
   }
  },
  {
   "cell_type": "code",
   "execution_count": 6,
   "outputs": [
    {
     "name": "stdout",
     "output_type": "stream",
     "text": [
      "[[[ 1  2  3]]\n",
      "\n",
      " [[ 4  5  6]]\n",
      "\n",
      " [[ 7  8 10]]\n",
      "\n",
      " [[11 12 13]]]\n"
     ]
    }
   ],
   "source": [
    "f1 = a[:, np.newaxis]\n",
    "print(f1)\n"
   ],
   "metadata": {
    "collapsed": false,
    "pycharm": {
     "name": "#%%\n"
    }
   }
  },
  {
   "cell_type": "code",
   "execution_count": 7,
   "outputs": [
    {
     "name": "stdout",
     "output_type": "stream",
     "text": [
      "[[[ 6]\n",
      "  [ 7]\n",
      "  [ 8]\n",
      "  [10]\n",
      "  [11]\n",
      "  [12]\n",
      "  [13]]]\n"
     ]
    }
   ],
   "source": [
    "g = np.array([f])\n",
    "print(g)\n"
   ],
   "metadata": {
    "collapsed": false,
    "pycharm": {
     "name": "#%%\n"
    }
   }
  },
  {
   "cell_type": "code",
   "execution_count": 8,
   "outputs": [
    {
     "name": "stdout",
     "output_type": "stream",
     "text": [
      "[0. 1. 0. 1. 1. 0. 1. 0. 0. 1.]\n"
     ]
    }
   ],
   "source": [
    "c_mask = np.zeros(10)\n",
    "c_mask[:5] = 1  # 将前五个数设置为1\n",
    "np.random.shuffle(c_mask)\n",
    "print(c_mask)\n"
   ],
   "metadata": {
    "collapsed": false,
    "pycharm": {
     "name": "#%%\n"
    }
   }
  },
  {
   "cell_type": "markdown",
   "source": [
    "字典的相关用法"
   ],
   "metadata": {
    "collapsed": false,
    "pycharm": {
     "name": "#%% md\n"
    }
   }
  },
  {
   "cell_type": "code",
   "execution_count": 9,
   "outputs": [
    {
     "name": "stdout",
     "output_type": "stream",
     "text": [
      "<class 'list'>\n",
      "<class 'dict'>\n"
     ]
    }
   ],
   "source": [
    "student = [('name','xiao meng'), ('number','110')]\n",
    "print(type(student))\n",
    "dict_student = dict(student)    # cover list to dict\n",
    "print(type(dict_student))\n",
    "\n"
   ],
   "metadata": {
    "collapsed": false,
    "pycharm": {
     "name": "#%%\n"
    }
   }
  },
  {
   "cell_type": "code",
   "execution_count": 10,
   "outputs": [
    {
     "name": "stdout",
     "output_type": "stream",
     "text": [
      "{'tain': 0, 'val': 0, 'test': 0}\n"
     ]
    }
   ],
   "source": [
    "idx = dict(\n",
    "    tain = 0,\n",
    "    val = 0,\n",
    "    test = 0\n",
    ")\n",
    "print(idx)\n"
   ],
   "metadata": {
    "collapsed": false,
    "pycharm": {
     "name": "#%%\n"
    }
   }
  },
  {
   "cell_type": "code",
   "execution_count": 3,
   "outputs": [],
   "source": [
    "sceneId = '000001'\n",
    "sceneId1 = sceneId.lstrip('0')\n",
    "sceneId = '0'\n",
    "\n",
    "\n"
   ],
   "metadata": {
    "collapsed": false,
    "pycharm": {
     "name": "#%%\n"
    }
   }
  },
  {
   "cell_type": "code",
   "execution_count": 9,
   "outputs": [
    {
     "name": "stdout",
     "output_type": "stream",
     "text": [
      "[[[0.01101668 0.0538056  0.54948986]\n",
      "  [0.36753204 0.856824   0.90061458]\n",
      "  [0.52210387 0.9594439  0.49900022]\n",
      "  [0.22027725 0.58160585 0.02137901]]\n",
      "\n",
      " [[0.98790452 0.56240437 0.66166439]\n",
      "  [0.10817402 0.7164466  0.90158767]\n",
      "  [0.84286698 0.50025549 0.57512687]\n",
      "  [0.31119002 0.68692872 0.65454719]]\n",
      "\n",
      " [[0.59548461 0.84036008 0.57181481]\n",
      "  [0.39229057 0.83146461 0.74253401]\n",
      "  [0.75754687 0.98030659 0.04996127]\n",
      "  [0.95778739 0.08104989 0.75572361]]\n",
      "\n",
      " [[0.46707657 0.37229431 0.37148522]\n",
      "  [0.5272589  0.33826851 0.52310346]\n",
      "  [0.50884484 0.18289252 0.36688074]\n",
      "  [0.0195123  0.77846699 0.58876344]]\n",
      "\n",
      " [[0.39242239 0.27733288 0.83210092]\n",
      "  [0.40088978 0.30076733 0.78988215]\n",
      "  [0.68326848 0.19589243 0.72169646]\n",
      "  [0.55587266 0.49053236 0.03217402]]]\n"
     ]
    }
   ],
   "source": [
    "import numpy as np\n",
    "x =np.random.random((5, 4, 3))\n",
    "print(x)\n"
   ],
   "metadata": {
    "collapsed": false,
    "pycharm": {
     "name": "#%%\n"
    }
   }
  },
  {
   "cell_type": "code",
   "execution_count": 10,
   "outputs": [
    {
     "name": "stdout",
     "output_type": "stream",
     "text": [
      "[[[0.54948986 0.0538056  0.01101668]\n",
      "  [0.90061458 0.856824   0.36753204]\n",
      "  [0.49900022 0.9594439  0.52210387]\n",
      "  [0.02137901 0.58160585 0.22027725]]\n",
      "\n",
      " [[0.66166439 0.56240437 0.98790452]\n",
      "  [0.90158767 0.7164466  0.10817402]\n",
      "  [0.57512687 0.50025549 0.84286698]\n",
      "  [0.65454719 0.68692872 0.31119002]]\n",
      "\n",
      " [[0.57181481 0.84036008 0.59548461]\n",
      "  [0.74253401 0.83146461 0.39229057]\n",
      "  [0.04996127 0.98030659 0.75754687]\n",
      "  [0.75572361 0.08104989 0.95778739]]\n",
      "\n",
      " [[0.37148522 0.37229431 0.46707657]\n",
      "  [0.52310346 0.33826851 0.5272589 ]\n",
      "  [0.36688074 0.18289252 0.50884484]\n",
      "  [0.58876344 0.77846699 0.0195123 ]]\n",
      "\n",
      " [[0.83210092 0.27733288 0.39242239]\n",
      "  [0.78988215 0.30076733 0.40088978]\n",
      "  [0.72169646 0.19589243 0.68326848]\n",
      "  [0.03217402 0.49053236 0.55587266]]]\n"
     ]
    }
   ],
   "source": [
    "x = x[:, :, ::-1]\n",
    "print(x)\n",
    "\n"
   ],
   "metadata": {
    "collapsed": false,
    "pycharm": {
     "name": "#%%\n"
    }
   }
  },
  {
   "cell_type": "code",
   "execution_count": null,
   "outputs": [],
   "source": [
    "\n"
   ],
   "metadata": {
    "collapsed": false,
    "pycharm": {
     "name": "#%%\n"
    }
   }
  }
 ],
 "metadata": {
  "kernelspec": {
   "display_name": "Python 3",
   "language": "python",
   "name": "python3"
  },
  "language_info": {
   "codemirror_mode": {
    "name": "ipython",
    "version": 2
   },
   "file_extension": ".py",
   "mimetype": "text/x-python",
   "name": "python",
   "nbconvert_exporter": "python",
   "pygments_lexer": "ipython2",
   "version": "2.7.6"
  }
 },
 "nbformat": 4,
 "nbformat_minor": 0
}