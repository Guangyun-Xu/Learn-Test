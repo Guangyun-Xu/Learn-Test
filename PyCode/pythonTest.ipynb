{
 "cells": [
  {
   "cell_type": "code",
   "execution_count": 4,
   "metadata": {
    "collapsed": true
   },
   "outputs": [
    {
     "name": "stdout",
     "output_type": "stream",
     "text": [
      "[[0.08661719 0.81499218 0.35854427]\n",
      " [0.66489998 0.34473536 0.99292243]\n",
      " [0.36325302 0.06779797 0.37842333]\n",
      " [0.0916777  0.91718663 0.6041236 ]\n",
      " [0.74920831 0.05302282 0.93864475]\n",
      " [0.51232951 0.89082706 0.98357939]\n",
      " [0.19363218 0.41844295 0.01485091]\n",
      " [0.05324922 0.21202428 0.37336274]\n",
      " [0.85854848 0.06693798 0.47619714]\n",
      " [0.86843004 0.52422821 0.65710739]]\n"
     ]
    }
   ],
   "source": [
    "import numpy as np\n",
    "normal = np.random.random((10,3))\n",
    "print(normal)"
   ]
  },
  {
   "cell_type": "markdown",
   "source": [
    "numpy.flatten()作用:\n",
    "将多维度的数据展成1维"
   ],
   "metadata": {
    "collapsed": false,
    "pycharm": {
     "name": "#%% md\n"
    }
   }
  },
  {
   "cell_type": "code",
   "execution_count": 5,
   "outputs": [
    {
     "name": "stdout",
     "output_type": "stream",
     "text": [
      "(4, 3)\n",
      "[[False False False]\n",
      " [False False  True]\n",
      " [ True  True  True]\n",
      " [ True  True  True]]\n",
      "(array([ 5,  6,  7,  8,  9, 10, 11]),)\n",
      "[ 1  2  3  4  5  6  7  8 10 11 12 13]\n",
      "(array([1, 2, 2, 2, 3, 3, 3]), array([2, 0, 1, 2, 0, 1, 2]))\n",
      "4\n"
     ]
    }
   ],
   "source": [
    "a = np.array([[1, 2, 3], [4, 5, 6],[7, 8, 10],[11, 12, 13]])\n",
    "print(a.shape)\n",
    "b = a > 5 #\n",
    "print(b)\n",
    "c = b.flatten().nonzero()\n",
    "print(c)\n",
    "d = a.flatten()\n",
    "print(d)\n",
    "e = b.nonzero()\n",
    "print(e)\n",
    "# f = np.where(e[0] == 2)\n",
    "# print(f)\n",
    "row_list = e[0].tolist()\n",
    "col_list = e[1].tolist()\n",
    "row_fist_idx = row_list.index(3)  # 第一个等于3的值的索引\n",
    "print(row_fist_idx)\n",
    "# find_list = [2, 3]\n",
    "# row_fist_idx_list = row_list.index(find_list)\n"
   ],
   "metadata": {
    "collapsed": false,
    "pycharm": {
     "name": "#%%\n"
    }
   }
  },
  {
   "cell_type": "code",
   "execution_count": 6,
   "outputs": [
    {
     "ename": "IndexError",
     "evalue": "index 5 is out of bounds for axis 0 with size 4",
     "output_type": "error",
     "traceback": [
      "\u001B[0;31m---------------------------------------------------------------------------\u001B[0m",
      "\u001B[0;31mIndexError\u001B[0m                                Traceback (most recent call last)",
      "\u001B[0;32m<ipython-input-6-bd266078b102>\u001B[0m in \u001B[0;36m<module>\u001B[0;34m\u001B[0m\n\u001B[0;32m----> 1\u001B[0;31m \u001B[0me\u001B[0m \u001B[0;34m=\u001B[0m \u001B[0ma\u001B[0m\u001B[0;34m[\u001B[0m\u001B[0mc\u001B[0m\u001B[0;34m]\u001B[0m\u001B[0;34m\u001B[0m\u001B[0;34m\u001B[0m\u001B[0m\n\u001B[0m\u001B[1;32m      2\u001B[0m \u001B[0mprint\u001B[0m\u001B[0;34m(\u001B[0m\u001B[0me\u001B[0m\u001B[0;34m)\u001B[0m\u001B[0;34m\u001B[0m\u001B[0;34m\u001B[0m\u001B[0m\n\u001B[1;32m      3\u001B[0m \u001B[0;34m\u001B[0m\u001B[0m\n\u001B[1;32m      4\u001B[0m \u001B[0;34m\u001B[0m\u001B[0m\n\u001B[1;32m      5\u001B[0m \u001B[0;34m\u001B[0m\u001B[0m\n",
      "\u001B[0;31mIndexError\u001B[0m: index 5 is out of bounds for axis 0 with size 4"
     ]
    }
   ],
   "source": [
    "e = a[c]\n",
    "print(e)\n",
    "\n"
   ],
   "metadata": {
    "collapsed": false,
    "pycharm": {
     "name": "#%%\n"
    }
   }
  },
  {
   "cell_type": "code",
   "execution_count": null,
   "outputs": [],
   "source": [
    "f = e[:, None]\n",
    "print(f)\n",
    "\n"
   ],
   "metadata": {
    "collapsed": false,
    "pycharm": {
     "name": "#%%\n"
    }
   }
  },
  {
   "cell_type": "code",
   "execution_count": null,
   "outputs": [],
   "source": [
    "f = e[:, np.newaxis]\n",
    "print(f)"
   ],
   "metadata": {
    "collapsed": false,
    "pycharm": {
     "name": "#%%\n"
    }
   }
  },
  {
   "cell_type": "code",
   "execution_count": null,
   "outputs": [],
   "source": [
    "f1 = a[:, np.newaxis]\n",
    "print(f1)\n"
   ],
   "metadata": {
    "collapsed": false,
    "pycharm": {
     "name": "#%%\n"
    }
   }
  },
  {
   "cell_type": "code",
   "execution_count": null,
   "outputs": [],
   "source": [
    "g = np.array([f])\n",
    "print(g)\n"
   ],
   "metadata": {
    "collapsed": false,
    "pycharm": {
     "name": "#%%\n"
    }
   }
  },
  {
   "cell_type": "code",
   "execution_count": null,
   "outputs": [],
   "source": [
    "c_mask = np.zeros(10)\n",
    "c_mask[:5] = 1  # 将前五个数设置为1\n",
    "np.random.shuffle(c_mask)\n",
    "print(c_mask)\n"
   ],
   "metadata": {
    "collapsed": false,
    "pycharm": {
     "name": "#%%\n"
    }
   }
  },
  {
   "cell_type": "markdown",
   "source": [
    "字典的相关用法"
   ],
   "metadata": {
    "collapsed": false,
    "pycharm": {
     "name": "#%% md\n"
    }
   }
  },
  {
   "cell_type": "code",
   "execution_count": null,
   "outputs": [],
   "source": [
    "student = [('name','xiao meng'), ('number','110')]\n",
    "print(type(student))\n",
    "dict_student = dict(student)    # cover list to dict\n",
    "print(type(dict_student))\n",
    "\n"
   ],
   "metadata": {
    "collapsed": false,
    "pycharm": {
     "name": "#%%\n"
    }
   }
  },
  {
   "cell_type": "code",
   "execution_count": null,
   "outputs": [],
   "source": [
    "idx = dict(\n",
    "    tain = 0,\n",
    "    val = 0,\n",
    "    test = 0\n",
    ")\n",
    "print(idx)\n"
   ],
   "metadata": {
    "collapsed": false,
    "pycharm": {
     "name": "#%%\n"
    }
   }
  },
  {
   "cell_type": "code",
   "execution_count": null,
   "outputs": [],
   "source": [
    "sceneId = '000001'\n",
    "sceneId1 = sceneId.lstrip('0')\n",
    "sceneId = '0'\n",
    "\n",
    "\n"
   ],
   "metadata": {
    "collapsed": false,
    "pycharm": {
     "name": "#%%\n"
    }
   }
  },
  {
   "cell_type": "code",
   "execution_count": null,
   "outputs": [],
   "source": [
    "import numpy as np\n",
    "np.random.seed(666)\n",
    "x =np.random.random((4, 3))\n",
    "print(x)\n",
    "y = x[:,2:3]\n",
    "print(y)\n"
   ],
   "metadata": {
    "collapsed": false,
    "pycharm": {
     "name": "#%%\n"
    }
   }
  },
  {
   "cell_type": "code",
   "execution_count": null,
   "outputs": [],
   "source": [
    "x = x[:, :, ::-1]\n",
    "print(x)\n",
    "\n"
   ],
   "metadata": {
    "collapsed": false,
    "pycharm": {
     "name": "#%%\n"
    }
   }
  },
  {
   "cell_type": "code",
   "execution_count": null,
   "outputs": [],
   "source": [
    "a = [1, 2, 3]\n",
    "print(len(a))\n",
    "\n",
    "\n"
   ],
   "metadata": {
    "collapsed": false,
    "pycharm": {
     "name": "#%%\n"
    }
   }
  },
  {
   "cell_type": "code",
   "execution_count": null,
   "outputs": [],
   "source": [
    "a = \"123.txt\"\n",
    "a = a[:-4]"
   ],
   "metadata": {
    "collapsed": false,
    "pycharm": {
     "name": "#%%\n"
    }
   }
  },
  {
   "cell_type": "code",
   "execution_count": null,
   "outputs": [],
   "source": [
    "a = [1, 2]\n",
    "if a :\n",
    "    print(a)\n",
    "else:\n",
    "    print(\"d\")\n",
    "\n"
   ],
   "metadata": {
    "collapsed": false,
    "pycharm": {
     "name": "#%%\n"
    }
   }
  },
  {
   "cell_type": "code",
   "execution_count": null,
   "outputs": [],
   "source": [
    "a = np.array([0, 0, 1, 1, 1, 0])\n",
    "b = a.nonzero()\n",
    "print(len(b[0]))\n"
   ],
   "metadata": {
    "collapsed": false,
    "pycharm": {
     "name": "#%%\n"
    }
   }
  },
  {
   "cell_type": "markdown",
   "source": [
    "数组中在一定范围内的数"
   ],
   "metadata": {
    "collapsed": false,
    "pycharm": {
     "name": "#%% md\n"
    }
   }
  },
  {
   "cell_type": "code",
   "execution_count": null,
   "outputs": [],
   "source": [
    "min = 2\n",
    "max = 10\n",
    "np.random.seed(666)\n",
    "a = np.random.randint(0, 15, 10)\n",
    "print(a)\n",
    "mask_min = a > min\n",
    "mask_max = a < max\n",
    "mask = mask_max & mask_min\n",
    "choose = mask.nonzero()\n",
    "in_range = a[choose]\n",
    "print(in_range)\n",
    "\n",
    "\n",
    "\n"
   ],
   "metadata": {
    "collapsed": false,
    "pycharm": {
     "name": "#%%\n"
    }
   }
  },
  {
   "cell_type": "code",
   "execution_count": null,
   "outputs": [],
   "source": [
    "sub = 2\n",
    "c = np.where(a.tolist() == sub)\n",
    "print(c)\n",
    "\n"
   ],
   "metadata": {
    "collapsed": false,
    "pycharm": {
     "name": "#%%\n"
    }
   }
  },
  {
   "cell_type": "code",
   "execution_count": null,
   "outputs": [],
   "source": [
    "a = 5\n",
    "b = 2\n",
    "print(a//b)\n",
    "\n"
   ],
   "metadata": {
    "collapsed": false,
    "pycharm": {
     "name": "#%%\n"
    }
   }
  },
  {
   "cell_type": "markdown",
   "source": [
    "字符串拼接"
   ],
   "metadata": {
    "collapsed": false,
    "pycharm": {
     "name": "#%% md\n"
    }
   }
  },
  {
   "cell_type": "code",
   "execution_count": null,
   "outputs": [],
   "source": [
    "a = 0.0345678\n",
    "epoch = 2\n",
    "name = '_%.4f'% a + \"ep{}\".format(epoch)\n",
    "print(name)\n"
   ],
   "metadata": {
    "collapsed": false,
    "pycharm": {
     "name": "#%%\n"
    }
   }
  },
  {
   "cell_type": "markdown",
   "source": [
    "查找 list 中等于指定的值"
   ],
   "metadata": {
    "collapsed": false,
    "pycharm": {
     "name": "#%% md\n"
    }
   }
  },
  {
   "cell_type": "code",
   "execution_count": null,
   "outputs": [],
   "source": [
    "a = [0, 0 , 2, 4, 1, 1]\n",
    "b = a == 1\n",
    "print(b)\n",
    "\n"
   ],
   "metadata": {
    "collapsed": false,
    "pycharm": {
     "name": "#%%\n"
    }
   }
  },
  {
   "cell_type": "code",
   "execution_count": 7,
   "outputs": [
    {
     "name": "stdout",
     "output_type": "stream",
     "text": [
      "[0 0 0 0 1 1 0 0]\n",
      "[0 1 0 1 0 0 0 0]\n",
      "(array([2, 6]),)\n",
      "[0 1 0 1 1 1 0 0 0 0 1 0 1 1 1 0]\n"
     ]
    }
   ],
   "source": [
    "a = np.array([0, 1, 0, 1, 1, 1, 0, 0])\n",
    "b = np.array([0, 0, 1, 0, 1, 1, 1, 0])\n",
    "c = a & b\n",
    "print(c)\n",
    "d = a - c\n",
    "print(d)\n",
    "e = b - a\n",
    "e = e > 0\n",
    "e = e.nonzero()\n",
    "\n",
    "print(e)\n",
    "f = np.append(a, b)\n",
    "print(f)\n"
   ],
   "metadata": {
    "collapsed": false,
    "pycharm": {
     "name": "#%%\n"
    }
   }
  },
  {
   "cell_type": "markdown",
   "source": [
    "list 转 array"
   ],
   "metadata": {
    "collapsed": false,
    "pycharm": {
     "name": "#%% md\n"
    }
   }
  },
  {
   "cell_type": "code",
   "execution_count": null,
   "outputs": [],
   "source": [
    "a = [0, 1, 0, 2, 3, 0, 0, 5]\n",
    "b = np.asarray(a).mean()\n",
    "print(b)\n",
    "\n",
    "\n"
   ],
   "metadata": {
    "collapsed": false,
    "pycharm": {
     "name": "#%%\n"
    }
   }
  },
  {
   "cell_type": "code",
   "execution_count": 8,
   "outputs": [
    {
     "name": "stdout",
     "output_type": "stream",
     "text": [
      "1\n"
     ]
    }
   ],
   "source": [
    "a = True\n",
    "b = False\n",
    "if a & (not b):\n",
    "    print(\"1\")\n",
    "    \n"
   ],
   "metadata": {
    "collapsed": false,
    "pycharm": {
     "name": "#%%\n"
    }
   }
  },
  {
   "cell_type": "markdown",
   "source": [
    "二值label转class label"
   ],
   "metadata": {
    "collapsed": false,
    "pycharm": {
     "name": "#%% md\n"
    }
   }
  },
  {
   "cell_type": "code",
   "execution_count": 13,
   "outputs": [
    {
     "name": "stdout",
     "output_type": "stream",
     "text": [
      "[ 0 -1  1  0  1]\n",
      "[False False  True False  True]\n"
     ]
    }
   ],
   "source": [
    "a = np.array([0, 0, 1, 0, 1])\n",
    "b = np.array([0, 1, 0, 0, 0])\n",
    "c = a & b\n",
    "d = a - b\n",
    "print(d)\n",
    "a_idx = d > 0\n",
    "b_idx = d < 0\n",
    "print(a_idx)\n",
    "label = np.zeros(5)\n",
    "label[a_idx] = 1\n",
    "label[b_idx] = 2"
   ],
   "metadata": {
    "collapsed": false,
    "pycharm": {
     "name": "#%%\n"
    }
   }
  },
  {
   "cell_type": "code",
   "execution_count": null,
   "outputs": [],
   "source": [],
   "metadata": {
    "collapsed": false,
    "pycharm": {
     "name": "#%%\n"
    }
   }
  }
 ],
 "metadata": {
  "kernelspec": {
   "display_name": "Python 3",
   "language": "python",
   "name": "python3"
  },
  "language_info": {
   "codemirror_mode": {
    "name": "ipython",
    "version": 2
   },
   "file_extension": ".py",
   "mimetype": "text/x-python",
   "name": "python",
   "nbconvert_exporter": "python",
   "pygments_lexer": "ipython2",
   "version": "2.7.6"
  }
 },
 "nbformat": 4,
 "nbformat_minor": 0
}