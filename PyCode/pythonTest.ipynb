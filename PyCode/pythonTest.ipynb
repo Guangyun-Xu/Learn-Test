{
 "cells": [
  {
   "cell_type": "code",
   "execution_count": 14,
   "metadata": {
    "collapsed": true
   },
   "outputs": [
    {
     "name": "stdout",
     "output_type": "stream",
     "text": [
      "[[0.08973674 0.45896483 0.08736129]\n",
      " [0.7615993  0.27417811 0.5036609 ]\n",
      " [0.62488502 0.85312913 0.43556164]\n",
      " [0.98086759 0.42820961 0.93945909]\n",
      " [0.57284162 0.9690916  0.91524483]\n",
      " [0.94262496 0.74273448 0.37886115]\n",
      " [0.64549685 0.09030538 0.03016169]\n",
      " [0.86080483 0.37194447 0.62937412]\n",
      " [0.02782052 0.28427647 0.84077243]\n",
      " [0.43758898 0.43500352 0.34533688]]\n"
     ]
    }
   ],
   "source": [
    "import numpy as np\n",
    "normal = np.random.random((10,3))\n",
    "print(normal)"
   ]
  },
  {
   "cell_type": "markdown",
   "source": [
    "numpy.flatten()作用:"
   ],
   "metadata": {
    "collapsed": false,
    "pycharm": {
     "name": "#%% md\n"
    }
   }
  },
  {
   "cell_type": "code",
   "execution_count": 15,
   "outputs": [
    {
     "name": "stdout",
     "output_type": "stream",
     "text": [
      "[[False False False]\n",
      " [False False  True]\n",
      " [ True  True  True]\n",
      " [ True  True  True]]\n",
      "[ 5  6  7  8  9 10 11]\n",
      "[ 1  2  3  4  5  6  7  8 10 11 12 13]\n"
     ]
    }
   ],
   "source": [
    "a = np.array([[1, 2, 3], [4, 5, 6],[7, 8, 10],[11, 12, 13]])\n",
    "b = a > 5 #\n",
    "print(b)\n",
    "c = b.flatten().nonzero()[0]\n",
    "print(c)\n",
    "d = a.flatten()\n",
    "print(d)\n",
    "\n"
   ],
   "metadata": {
    "collapsed": false,
    "pycharm": {
     "name": "#%%\n"
    }
   }
  },
  {
   "cell_type": "code",
   "execution_count": 16,
   "outputs": [
    {
     "name": "stdout",
     "output_type": "stream",
     "text": [
      "[ 6  7  8 10 11 12 13]\n"
     ]
    }
   ],
   "source": [
    "e = a.flatten()[c]\n",
    "print(e)\n",
    "\n"
   ],
   "metadata": {
    "collapsed": false,
    "pycharm": {
     "name": "#%%\n"
    }
   }
  },
  {
   "cell_type": "code",
   "execution_count": 17,
   "outputs": [
    {
     "name": "stdout",
     "output_type": "stream",
     "text": [
      "[[ 6]\n",
      " [ 7]\n",
      " [ 8]\n",
      " [10]\n",
      " [11]\n",
      " [12]\n",
      " [13]]\n"
     ]
    }
   ],
   "source": [
    "f = e[:, None]\n",
    "print(f)\n",
    "\n"
   ],
   "metadata": {
    "collapsed": false,
    "pycharm": {
     "name": "#%%\n"
    }
   }
  },
  {
   "cell_type": "code",
   "execution_count": 18,
   "outputs": [
    {
     "name": "stdout",
     "output_type": "stream",
     "text": [
      "[[ 6]\n",
      " [ 7]\n",
      " [ 8]\n",
      " [10]\n",
      " [11]\n",
      " [12]\n",
      " [13]]\n"
     ]
    }
   ],
   "source": [
    "f = e[:, np.newaxis]\n",
    "print(f)"
   ],
   "metadata": {
    "collapsed": false,
    "pycharm": {
     "name": "#%%\n"
    }
   }
  },
  {
   "cell_type": "code",
   "execution_count": 19,
   "outputs": [
    {
     "name": "stdout",
     "output_type": "stream",
     "text": [
      "[[[ 1  2  3]]\n",
      "\n",
      " [[ 4  5  6]]\n",
      "\n",
      " [[ 7  8 10]]\n",
      "\n",
      " [[11 12 13]]]\n"
     ]
    }
   ],
   "source": [
    "f1 = a[:, np.newaxis]\n",
    "print(f1)\n"
   ],
   "metadata": {
    "collapsed": false,
    "pycharm": {
     "name": "#%%\n"
    }
   }
  },
  {
   "cell_type": "code",
   "execution_count": 21,
   "outputs": [
    {
     "name": "stdout",
     "output_type": "stream",
     "text": [
      "[[[ 6]\n",
      "  [ 7]\n",
      "  [ 8]\n",
      "  [10]\n",
      "  [11]\n",
      "  [12]\n",
      "  [13]]]\n"
     ]
    }
   ],
   "source": [
    "g = np.array([f])\n",
    "print(g)\n"
   ],
   "metadata": {
    "collapsed": false,
    "pycharm": {
     "name": "#%%\n"
    }
   }
  },
  {
   "cell_type": "code",
   "execution_count": 23,
   "outputs": [
    {
     "name": "stdout",
     "output_type": "stream",
     "text": [
      "[1. 0. 1. 0. 0. 0. 0. 1. 1. 1.]\n"
     ]
    }
   ],
   "source": [
    "c_mask = np.zeros(10)\n",
    "c_mask[:5] = 1  # 将前五个数设置为1\n",
    "np.random.shuffle(c_mask)\n",
    "print(c_mask)\n"
   ],
   "metadata": {
    "collapsed": false,
    "pycharm": {
     "name": "#%%\n"
    }
   }
  },
  {
   "cell_type": "code",
   "execution_count": null,
   "outputs": [],
   "source": [
    "\n"
   ],
   "metadata": {
    "collapsed": false,
    "pycharm": {
     "name": "#%%\n"
    }
   }
  }
 ],
 "metadata": {
  "kernelspec": {
   "display_name": "Python 3",
   "language": "python",
   "name": "python3"
  },
  "language_info": {
   "codemirror_mode": {
    "name": "ipython",
    "version": 2
   },
   "file_extension": ".py",
   "mimetype": "text/x-python",
   "name": "python",
   "nbconvert_exporter": "python",
   "pygments_lexer": "ipython2",
   "version": "2.7.6"
  }
 },
 "nbformat": 4,
 "nbformat_minor": 0
}