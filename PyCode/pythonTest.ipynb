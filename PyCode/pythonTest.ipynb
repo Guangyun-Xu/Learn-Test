{
 "cells": [
  {
   "cell_type": "code",
   "execution_count": 1,
   "metadata": {
    "collapsed": true
   },
   "outputs": [
    {
     "name": "stdout",
     "output_type": "stream",
     "text": [
      "[[0.09366622 0.73203519 0.85648556]\n",
      " [0.89917467 0.34668802 0.00879755]\n",
      " [0.70443452 0.69765613 0.72248752]\n",
      " [0.71204872 0.55631818 0.69792112]\n",
      " [0.94559559 0.9834139  0.41590905]\n",
      " [0.44391017 0.51855196 0.43691681]\n",
      " [0.60207438 0.71575516 0.35595664]\n",
      " [0.94791822 0.32629689 0.4373158 ]\n",
      " [0.85902969 0.36413892 0.86524425]\n",
      " [0.53195522 0.20031795 0.16207422]]\n"
     ]
    }
   ],
   "source": [
    "import numpy as np\n",
    "normal = np.random.random((10,3))\n",
    "print(normal)"
   ]
  },
  {
   "cell_type": "markdown",
   "source": [
    "numpy.flatten()作用:\n",
    "将多维度的数据展成1维"
   ],
   "metadata": {
    "collapsed": false,
    "pycharm": {
     "name": "#%% md\n"
    }
   }
  },
  {
   "cell_type": "code",
   "execution_count": 9,
   "outputs": [
    {
     "name": "stdout",
     "output_type": "stream",
     "text": [
      "[[False False False]\n",
      " [False False  True]\n",
      " [ True  True  True]\n",
      " [ True  True  True]]\n",
      "(array([ 5,  6,  7,  8,  9, 10, 11]),)\n",
      "[ 1  2  3  4  5  6  7  8 10 11 12 13]\n",
      "(array([1, 2, 2, 2, 3, 3, 3]), array([2, 0, 1, 2, 0, 1, 2]))\n",
      "4\n"
     ]
    }
   ],
   "source": [
    "a = np.array([[1, 2, 3], [4, 5, 6],[7, 8, 10],[11, 12, 13]])\n",
    "b = a > 5 #\n",
    "print(b)\n",
    "c = b.flatten().nonzero()\n",
    "print(c)\n",
    "d = a.flatten()\n",
    "print(d)\n",
    "e = b.nonzero()\n",
    "print(e)\n",
    "# f = np.where(e[0] == 2)\n",
    "# print(f)\n",
    "row_list = e[0].tolist()\n",
    "col_list = e[1].tolist()\n",
    "row_fist_idx = row_list.index(3)  # 第一个等于3的值的索引\n",
    "print(row_fist_idx)\n"
   ],
   "metadata": {
    "collapsed": false,
    "pycharm": {
     "name": "#%%\n"
    }
   }
  },
  {
   "cell_type": "code",
   "execution_count": 4,
   "outputs": [
    {
     "ename": "IndexError",
     "evalue": "index 5 is out of bounds for axis 0 with size 4",
     "output_type": "error",
     "traceback": [
      "\u001B[0;31m---------------------------------------------------------------------------\u001B[0m",
      "\u001B[0;31mIndexError\u001B[0m                                Traceback (most recent call last)",
      "\u001B[0;32m<ipython-input-4-bd266078b102>\u001B[0m in \u001B[0;36m<module>\u001B[0;34m\u001B[0m\n\u001B[0;32m----> 1\u001B[0;31m \u001B[0me\u001B[0m \u001B[0;34m=\u001B[0m \u001B[0ma\u001B[0m\u001B[0;34m[\u001B[0m\u001B[0mc\u001B[0m\u001B[0;34m]\u001B[0m\u001B[0;34m\u001B[0m\u001B[0;34m\u001B[0m\u001B[0m\n\u001B[0m\u001B[1;32m      2\u001B[0m \u001B[0mprint\u001B[0m\u001B[0;34m(\u001B[0m\u001B[0me\u001B[0m\u001B[0;34m)\u001B[0m\u001B[0;34m\u001B[0m\u001B[0;34m\u001B[0m\u001B[0m\n\u001B[1;32m      3\u001B[0m \u001B[0;34m\u001B[0m\u001B[0m\n\u001B[1;32m      4\u001B[0m \u001B[0;34m\u001B[0m\u001B[0m\n\u001B[1;32m      5\u001B[0m \u001B[0;34m\u001B[0m\u001B[0m\n",
      "\u001B[0;31mIndexError\u001B[0m: index 5 is out of bounds for axis 0 with size 4"
     ]
    }
   ],
   "source": [
    "e = a[c]\n",
    "print(e)\n",
    "\n"
   ],
   "metadata": {
    "collapsed": false,
    "pycharm": {
     "name": "#%%\n"
    }
   }
  },
  {
   "cell_type": "code",
   "execution_count": 4,
   "outputs": [
    {
     "name": "stdout",
     "output_type": "stream",
     "text": [
      "[[ 6]\n",
      " [ 7]\n",
      " [ 8]\n",
      " [10]\n",
      " [11]\n",
      " [12]\n",
      " [13]]\n"
     ]
    }
   ],
   "source": [
    "f = e[:, None]\n",
    "print(f)\n",
    "\n"
   ],
   "metadata": {
    "collapsed": false,
    "pycharm": {
     "name": "#%%\n"
    }
   }
  },
  {
   "cell_type": "code",
   "execution_count": 5,
   "outputs": [
    {
     "name": "stdout",
     "output_type": "stream",
     "text": [
      "[[ 6]\n",
      " [ 7]\n",
      " [ 8]\n",
      " [10]\n",
      " [11]\n",
      " [12]\n",
      " [13]]\n"
     ]
    }
   ],
   "source": [
    "f = e[:, np.newaxis]\n",
    "print(f)"
   ],
   "metadata": {
    "collapsed": false,
    "pycharm": {
     "name": "#%%\n"
    }
   }
  },
  {
   "cell_type": "code",
   "execution_count": 6,
   "outputs": [
    {
     "name": "stdout",
     "output_type": "stream",
     "text": [
      "[[[ 1  2  3]]\n",
      "\n",
      " [[ 4  5  6]]\n",
      "\n",
      " [[ 7  8 10]]\n",
      "\n",
      " [[11 12 13]]]\n"
     ]
    }
   ],
   "source": [
    "f1 = a[:, np.newaxis]\n",
    "print(f1)\n"
   ],
   "metadata": {
    "collapsed": false,
    "pycharm": {
     "name": "#%%\n"
    }
   }
  },
  {
   "cell_type": "code",
   "execution_count": 7,
   "outputs": [
    {
     "name": "stdout",
     "output_type": "stream",
     "text": [
      "[[[ 6]\n",
      "  [ 7]\n",
      "  [ 8]\n",
      "  [10]\n",
      "  [11]\n",
      "  [12]\n",
      "  [13]]]\n"
     ]
    }
   ],
   "source": [
    "g = np.array([f])\n",
    "print(g)\n"
   ],
   "metadata": {
    "collapsed": false,
    "pycharm": {
     "name": "#%%\n"
    }
   }
  },
  {
   "cell_type": "code",
   "execution_count": 8,
   "outputs": [
    {
     "name": "stdout",
     "output_type": "stream",
     "text": [
      "[0. 1. 0. 1. 1. 0. 1. 0. 0. 1.]\n"
     ]
    }
   ],
   "source": [
    "c_mask = np.zeros(10)\n",
    "c_mask[:5] = 1  # 将前五个数设置为1\n",
    "np.random.shuffle(c_mask)\n",
    "print(c_mask)\n"
   ],
   "metadata": {
    "collapsed": false,
    "pycharm": {
     "name": "#%%\n"
    }
   }
  },
  {
   "cell_type": "markdown",
   "source": [
    "字典的相关用法"
   ],
   "metadata": {
    "collapsed": false,
    "pycharm": {
     "name": "#%% md\n"
    }
   }
  },
  {
   "cell_type": "code",
   "execution_count": 9,
   "outputs": [
    {
     "name": "stdout",
     "output_type": "stream",
     "text": [
      "<class 'list'>\n",
      "<class 'dict'>\n"
     ]
    }
   ],
   "source": [
    "student = [('name','xiao meng'), ('number','110')]\n",
    "print(type(student))\n",
    "dict_student = dict(student)    # cover list to dict\n",
    "print(type(dict_student))\n",
    "\n"
   ],
   "metadata": {
    "collapsed": false,
    "pycharm": {
     "name": "#%%\n"
    }
   }
  },
  {
   "cell_type": "code",
   "execution_count": 10,
   "outputs": [
    {
     "name": "stdout",
     "output_type": "stream",
     "text": [
      "{'tain': 0, 'val': 0, 'test': 0}\n"
     ]
    }
   ],
   "source": [
    "idx = dict(\n",
    "    tain = 0,\n",
    "    val = 0,\n",
    "    test = 0\n",
    ")\n",
    "print(idx)\n"
   ],
   "metadata": {
    "collapsed": false,
    "pycharm": {
     "name": "#%%\n"
    }
   }
  },
  {
   "cell_type": "code",
   "execution_count": 3,
   "outputs": [],
   "source": [
    "sceneId = '000001'\n",
    "sceneId1 = sceneId.lstrip('0')\n",
    "sceneId = '0'\n",
    "\n",
    "\n"
   ],
   "metadata": {
    "collapsed": false,
    "pycharm": {
     "name": "#%%\n"
    }
   }
  },
  {
   "cell_type": "code",
   "execution_count": 8,
   "outputs": [
    {
     "name": "stdout",
     "output_type": "stream",
     "text": [
      "[[0.70043712 0.84418664 0.67651434]\n",
      " [0.72785806 0.95145796 0.0127032 ]\n",
      " [0.4135877  0.04881279 0.09992856]\n",
      " [0.50806631 0.20024754 0.74415417]]\n",
      "[[0.67651434]\n",
      " [0.0127032 ]\n",
      " [0.09992856]\n",
      " [0.74415417]]\n"
     ]
    }
   ],
   "source": [
    "import numpy as np\n",
    "np.random.seed(666)\n",
    "x =np.random.random((4, 3))\n",
    "print(x)\n",
    "y = x[:,2:3]\n",
    "print(y)\n"
   ],
   "metadata": {
    "collapsed": false,
    "pycharm": {
     "name": "#%%\n"
    }
   }
  },
  {
   "cell_type": "code",
   "execution_count": 10,
   "outputs": [
    {
     "name": "stdout",
     "output_type": "stream",
     "text": [
      "[[[0.54948986 0.0538056  0.01101668]\n",
      "  [0.90061458 0.856824   0.36753204]\n",
      "  [0.49900022 0.9594439  0.52210387]\n",
      "  [0.02137901 0.58160585 0.22027725]]\n",
      "\n",
      " [[0.66166439 0.56240437 0.98790452]\n",
      "  [0.90158767 0.7164466  0.10817402]\n",
      "  [0.57512687 0.50025549 0.84286698]\n",
      "  [0.65454719 0.68692872 0.31119002]]\n",
      "\n",
      " [[0.57181481 0.84036008 0.59548461]\n",
      "  [0.74253401 0.83146461 0.39229057]\n",
      "  [0.04996127 0.98030659 0.75754687]\n",
      "  [0.75572361 0.08104989 0.95778739]]\n",
      "\n",
      " [[0.37148522 0.37229431 0.46707657]\n",
      "  [0.52310346 0.33826851 0.5272589 ]\n",
      "  [0.36688074 0.18289252 0.50884484]\n",
      "  [0.58876344 0.77846699 0.0195123 ]]\n",
      "\n",
      " [[0.83210092 0.27733288 0.39242239]\n",
      "  [0.78988215 0.30076733 0.40088978]\n",
      "  [0.72169646 0.19589243 0.68326848]\n",
      "  [0.03217402 0.49053236 0.55587266]]]\n"
     ]
    }
   ],
   "source": [
    "x = x[:, :, ::-1]\n",
    "print(x)\n",
    "\n"
   ],
   "metadata": {
    "collapsed": false,
    "pycharm": {
     "name": "#%%\n"
    }
   }
  },
  {
   "cell_type": "code",
   "execution_count": 1,
   "outputs": [
    {
     "name": "stdout",
     "output_type": "stream",
     "text": [
      "3\n"
     ]
    }
   ],
   "source": [
    "a = [1, 2, 3]\n",
    "print(len(a))\n",
    "\n",
    "\n"
   ],
   "metadata": {
    "collapsed": false,
    "pycharm": {
     "name": "#%%\n"
    }
   }
  },
  {
   "cell_type": "code",
   "execution_count": 3,
   "outputs": [],
   "source": [
    "a = \"123.txt\"\n",
    "a = a[:-4]"
   ],
   "metadata": {
    "collapsed": false,
    "pycharm": {
     "name": "#%%\n"
    }
   }
  },
  {
   "cell_type": "code",
   "execution_count": 15,
   "outputs": [
    {
     "name": "stdout",
     "output_type": "stream",
     "text": [
      "[1, 2]\n"
     ]
    }
   ],
   "source": [
    "a = [1, 2]\n",
    "if a :\n",
    "    print(a)\n",
    "else:\n",
    "    print(\"d\")\n",
    "\n"
   ],
   "metadata": {
    "collapsed": false,
    "pycharm": {
     "name": "#%%\n"
    }
   }
  },
  {
   "cell_type": "code",
   "execution_count": null,
   "outputs": [],
   "source": [
    "\n"
   ],
   "metadata": {
    "collapsed": false,
    "pycharm": {
     "name": "#%%\n"
    }
   }
  }
 ],
 "metadata": {
  "kernelspec": {
   "display_name": "Python 3",
   "language": "python",
   "name": "python3"
  },
  "language_info": {
   "codemirror_mode": {
    "name": "ipython",
    "version": 2
   },
   "file_extension": ".py",
   "mimetype": "text/x-python",
   "name": "python",
   "nbconvert_exporter": "python",
   "pygments_lexer": "ipython2",
   "version": "2.7.6"
  }
 },
 "nbformat": 4,
 "nbformat_minor": 0
}