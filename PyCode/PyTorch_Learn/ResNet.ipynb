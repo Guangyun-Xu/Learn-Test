{
 "cells": [
  {
   "cell_type": "code",
   "execution_count": 6,
   "metadata": {
    "collapsed": true
   },
   "outputs": [
    {
     "name": "stdout",
     "output_type": "stream",
     "text": [
      "tensor([[[[0.5267, 0.9650, 0.4840],\n",
      "          [0.3138, 0.7809, 0.8616],\n",
      "          [0.1053, 0.4977, 0.0979],\n",
      "          [0.0635, 0.6376, 0.7701],\n",
      "          [0.6356, 0.4748, 0.6783],\n",
      "          [0.8096, 0.5614, 0.5748]],\n",
      "\n",
      "         [[0.5338, 0.6107, 0.3046],\n",
      "          [0.1046, 0.2932, 0.4811],\n",
      "          [0.8798, 0.7367, 0.9893],\n",
      "          [0.6315, 0.2950, 0.8836],\n",
      "          [0.2864, 0.1221, 0.0390],\n",
      "          [0.1969, 0.4689, 0.5067]],\n",
      "\n",
      "         [[0.0467, 0.0797, 0.6226],\n",
      "          [0.6337, 0.9890, 0.1672],\n",
      "          [0.9020, 0.2979, 0.7176],\n",
      "          [0.5038, 0.8381, 0.2298],\n",
      "          [0.4558, 0.3417, 0.6988],\n",
      "          [0.9260, 0.7905, 0.0434]]],\n",
      "\n",
      "\n",
      "        [[[0.4777, 0.9853, 0.2678],\n",
      "          [0.9205, 0.0718, 0.7372],\n",
      "          [0.7431, 0.5045, 0.8241],\n",
      "          [0.7875, 0.0451, 0.4490],\n",
      "          [0.2426, 0.3428, 0.3994],\n",
      "          [0.7265, 0.9255, 0.3337]],\n",
      "\n",
      "         [[0.8017, 0.1918, 0.6678],\n",
      "          [0.9714, 0.8726, 0.1209],\n",
      "          [0.1733, 0.7318, 0.6322],\n",
      "          [0.5113, 0.9052, 0.4145],\n",
      "          [0.0239, 0.8001, 0.5857],\n",
      "          [0.9260, 0.1759, 0.4173]],\n",
      "\n",
      "         [[0.7636, 0.7092, 0.7900],\n",
      "          [0.1391, 0.5467, 0.8876],\n",
      "          [0.9482, 0.5980, 0.2762],\n",
      "          [0.7703, 0.3186, 0.0811],\n",
      "          [0.9096, 0.8674, 0.3444],\n",
      "          [0.3804, 0.7092, 0.5070]]]])\n"
     ]
    }
   ],
   "source": [
    "# 两个相加的feature map的形状必须是一样的\n",
    "\n",
    "import time\n",
    "import torch\n",
    "from torch import nn, optim\n",
    "import torch.nn.functional as F\n",
    "\n",
    "import sys\n",
    "sys.path.append(\"..\")\n",
    "import PyCode.PyTorch_Learn.d2lzh_pytorch as d2l\n",
    "device = torch.device('cuda' if torch.cuda.is_available() else 'cpu')\n",
    "\n",
    "\n",
    "# 定义残差块,可以设定输入\\输出的通道数,以及是否使用1X1卷积和设定步长对输出的形状进行调整\n",
    "class Residual(nn.Module):\n",
    "    def __init__(self, in_channels, out_channels, use_1x1conv=False, stride=1):\n",
    "        super(Residual, self).__init__()\n",
    "        self.conv1 = nn.Conv2d(in_channels, out_channels, stride=stride, kernel_size=3, padding=1)\n",
    "        self.conv2 = nn.Conv2d(out_channels, out_channels, kernel_size=3, padding=1)\n",
    "        if use_1x1conv:\n",
    "            self.conv3 = nn.Conv2d(in_channels, out_channels, kernel_size=1, stride=stride)\n",
    "        else:\n",
    "            self.conv3 = None\n",
    "        self.bn1 = nn.BatchNorm2d(out_channels)\n",
    "        self.bn2 = nn.BatchNorm2d(out_channels)\n",
    "\n",
    "    def forward(self, X):\n",
    "        Y = F.relu(self.bn1(self.conv1(X)))\n",
    "        Y = self.bn2(self.conv2(Y))\n",
    "        if self.conv3:\n",
    "            X = self.conv3(X)\n",
    "        return F.relu(Y + X)\n",
    "\n",
    "\n",
    "blk = Residual(3, 3)\n",
    "X = torch.rand((2, 3, 6, 6)) # 样本组数\\样本层数\\样本行数\\样本列数\n",
    "print(X)"
   ]
  },
  {
   "cell_type": "code",
   "execution_count": 7,
   "outputs": [
    {
     "data": {
      "text/plain": "torch.Size([2, 3, 6, 3])"
     },
     "execution_count": 7,
     "metadata": {},
     "output_type": "execute_result"
    }
   ],
   "source": [
    "blk(X).shape\n",
    "\n"
   ],
   "metadata": {
    "collapsed": false,
    "pycharm": {
     "name": "#%%\n"
    }
   }
  },
  {
   "cell_type": "code",
   "execution_count": null,
   "outputs": [],
   "source": [
    "\n"
   ],
   "metadata": {
    "collapsed": false,
    "pycharm": {
     "name": "#%%\n"
    }
   }
  }
 ],
 "metadata": {
  "kernelspec": {
   "display_name": "Python 3",
   "language": "python",
   "name": "python3"
  },
  "language_info": {
   "codemirror_mode": {
    "name": "ipython",
    "version": 2
   },
   "file_extension": ".py",
   "mimetype": "text/x-python",
   "name": "python",
   "nbconvert_exporter": "python",
   "pygments_lexer": "ipython2",
   "version": "2.7.6"
  }
 },
 "nbformat": 4,
 "nbformat_minor": 0
}