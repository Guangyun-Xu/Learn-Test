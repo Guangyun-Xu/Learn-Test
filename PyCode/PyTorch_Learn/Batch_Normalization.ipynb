{
 "cells": [
  {
   "cell_type": "markdown",
   "metadata": {
    "collapsed": true,
    "pycharm": {
     "name": "#%% md\n"
    }
   },
   "source": [
    "简洁实现"
   ]
  },
  {
   "cell_type": "code",
   "execution_count": null,
   "outputs": [
    {
     "name": "stdout",
     "output_type": "stream",
     "text": [
      "training on  cuda\n",
      "epoch 1, loss 2.1878, train acc 0.242, test acc 0.100, time 3.5 sec\n",
      "epoch 2, loss 1.9235, train acc 0.538, test acc 0.100, time 3.0 sec\n",
      "epoch 3, loss 1.8019, train acc 0.625, test acc 0.183, time 2.8 sec\n",
      "epoch 4, loss 1.7242, train acc 0.666, test acc 0.147, time 2.8 sec\n",
      "epoch 5, loss 1.6634, train acc 0.688, test acc 0.152, time 2.8 sec\n",
      "epoch 6, loss 1.6112, train acc 0.704, test acc 0.289, time 2.9 sec\n",
      "epoch 7, loss 1.5641, train acc 0.718, test acc 0.399, time 2.8 sec\n",
      "epoch 8, loss 1.5201, train acc 0.730, test acc 0.492, time 2.9 sec\n",
      "epoch 9, loss 1.4783, train acc 0.739, test acc 0.582, time 2.9 sec\n",
      "epoch 10, loss 1.4387, train acc 0.745, test acc 0.615, time 2.8 sec\n"
     ]
    }
   ],
   "source": [
    "import torch\n",
    "from torch import nn\n",
    "from PyCode.PyTorch_Learn import d2lzh_pytorch as d2l\n",
    "\n",
    "device = torch.device('cuda' if torch.cuda.is_available() else 'cpu')\n",
    "\n",
    "# 带有批量归一化的LeNet\n",
    "net = nn.Sequential(\n",
    "    nn.Conv2d(1, 6, 5),\n",
    "    nn.BatchNorm2d(6),  # 指定上一层输出的维度\n",
    "    nn.Sigmoid(),\n",
    "    nn.MaxPool2d(2, 2),\n",
    "\n",
    "    nn.Conv2d(6, 16, 5),\n",
    "    nn.BatchNorm2d(16),\n",
    "    nn.Sigmoid(),\n",
    "    nn.MaxPool2d(2, 2),\n",
    "    d2l.FlattenLayer(),\n",
    "\n",
    "    nn.Linear(16*4*4, 120),\n",
    "    nn.BatchNorm1d(120),\n",
    "    nn.Sigmoid(),\n",
    "    nn.Linear(120, 84),\n",
    "    nn.BatchNorm1d(84),\n",
    "    nn.Sigmoid(),\n",
    "    nn.Linear(84, 10)\n",
    ")\n",
    "\n",
    "batch_size = 20480\n",
    "train_iter, test_iter = d2l.load_data_fashion_mnist(batch_size=batch_size)\n",
    "lr, num_epochs = 0.001, 50\n",
    "optimizer = torch.optim.Adam(net.parameters(), lr=lr)\n",
    "d2l.train_ch5(net, train_iter, test_iter, batch_size, optimizer, device, num_epochs)\n"
   ],
   "metadata": {
    "collapsed": false,
    "pycharm": {
     "name": "#%%\n",
     "is_executing": true
    }
   }
  },
  {
   "cell_type": "code",
   "execution_count": 1,
   "outputs": [],
   "source": [
    "\n"
   ],
   "metadata": {
    "collapsed": false,
    "pycharm": {
     "name": "#%%\n"
    }
   }
  }
 ],
 "metadata": {
  "kernelspec": {
   "display_name": "Python 3",
   "language": "python",
   "name": "python3"
  },
  "language_info": {
   "codemirror_mode": {
    "name": "ipython",
    "version": 2
   },
   "file_extension": ".py",
   "mimetype": "text/x-python",
   "name": "python",
   "nbconvert_exporter": "python",
   "pygments_lexer": "ipython2",
   "version": "2.7.6"
  }
 },
 "nbformat": 4,
 "nbformat_minor": 0
}