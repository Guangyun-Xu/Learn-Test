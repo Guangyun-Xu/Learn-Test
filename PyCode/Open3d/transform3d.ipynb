{
 "cells": [
  {
   "cell_type": "markdown",
   "metadata": {
    "collapsed": true,
    "pycharm": {
     "name": "#%% md\n"
    }
   },
   "source": [
    "pip install transforms3d"
   ]
  },
  {
   "cell_type": "markdown",
   "source": [
    "matrix to euler and euler to matrix"
   ],
   "metadata": {
    "collapsed": false,
    "pycharm": {
     "name": "#%% md\n"
    }
   }
  },
  {
   "cell_type": "code",
   "execution_count": 1,
   "outputs": [
    {
     "name": "stdout",
     "output_type": "stream",
     "text": [
      "[[ 0. -3.  0. 20.]\n",
      " [ 2.  0.  0. 30.]\n",
      " [ 0.  0.  4. 40.]\n",
      " [ 0.  0.  0.  1.]]\n"
     ]
    }
   ],
   "source": [
    "import transforms3d as t3d\n",
    "\n",
    "# compose transform matrix\n",
    "T = [20, 30, 40]\n",
    "R = [[0, -1, 0], [1, 0, 0], [0, 0, 1]] # rotation matrix\n",
    "Z = [2.0, 3.0, 4.0] # zooms\n",
    "A = t3d.affines.compose(T, R, Z)\n",
    "print(A)\n",
    "\n",
    "\n",
    "\n",
    "\n"
   ],
   "metadata": {
    "collapsed": false,
    "pycharm": {
     "name": "#%%\n"
    }
   }
  },
  {
   "cell_type": "code",
   "execution_count": 2,
   "outputs": [
    {
     "name": "stdout",
     "output_type": "stream",
     "text": [
      "[[ 0. -1.  0. 20.]\n",
      " [ 1.  0.  0. 30.]\n",
      " [ 0.  0.  1. 40.]\n",
      " [ 0.  0.  0.  1.]]\n",
      "0.0 -0.0 1.5707963267948966\n"
     ]
    }
   ],
   "source": [
    "#transform matrix to euler\n",
    "Z1 = [1, 1, 1]\n",
    "B = t3d.affines.compose(T, R, Z1)\n",
    "print(B)\n",
    "rx, ry, rz = t3d.euler.mat2euler(R, axes='sxyz')\n",
    "print(rx, ry ,rz)\n",
    "\n"
   ],
   "metadata": {
    "collapsed": false,
    "pycharm": {
     "name": "#%%\n"
    }
   }
  },
  {
   "cell_type": "code",
   "execution_count": 3,
   "outputs": [
    {
     "name": "stdout",
     "output_type": "stream",
     "text": [
      "[[ 6.123234e-17 -1.000000e+00  0.000000e+00]\n",
      " [ 1.000000e+00  6.123234e-17 -0.000000e+00]\n",
      " [ 0.000000e+00  0.000000e+00  1.000000e+00]]\n"
     ]
    }
   ],
   "source": [
    "# transform euler to matrix\n",
    "R1 = t3d.euler.euler2mat(rx, ry, rz, axes='sxyz')\n",
    "print(R1.astype(float))\n"
   ],
   "metadata": {
    "collapsed": false,
    "pycharm": {
     "name": "#%%\n"
    }
   }
  },
  {
   "cell_type": "markdown",
   "source": [
    "show axes"
   ],
   "metadata": {
    "collapsed": false,
    "pycharm": {
     "name": "#%% md\n"
    }
   }
  },
  {
   "cell_type": "code",
   "execution_count": 4,
   "outputs": [
    {
     "name": "stdout",
     "output_type": "stream",
     "text": [
      "[[ 1.01851204e-02 -9.99943600e-01  3.01010334e-03  3.93100000e+02]\n",
      " [-9.85715620e-01 -9.53402653e-03  1.68148206e-01 -2.80894000e+02]\n",
      " [-1.68110024e-01 -4.67971561e-03 -9.85757130e-01  1.33803000e+03]\n",
      " [ 0.00000000e+00  0.00000000e+00  0.00000000e+00  1.00000000e+00]]\n",
      "0.16891395973291096 -0.004679732689949227 0.009534275374698208\n"
     ]
    }
   ],
   "source": [
    "import open3d as o3d\n",
    "import math\n",
    "import numpy as np\n",
    "base_coordinate = o3d.create_mesh_coordinate_frame(size=1000)\n",
    "coordinate1 = o3d.create_mesh_coordinate_frame(size=500)\n",
    "coordinate2 = o3d.create_mesh_coordinate_frame(size=300)\n",
    "r_xyz = np.array([180.272, 9.67795, 270.592]) # camera in base pose\n",
    "r_xyz = r_xyz/180*math.pi\n",
    "R_1 = t3d.euler.euler2mat(r_xyz[0], r_xyz[1], r_xyz[2], axes='sxyz')\n",
    "T_1 = np.array([0.3931, -0.280894, 1.33803])*1000\n",
    "H_1 = t3d.affines.compose(T_1, R_1, Z1)\n",
    "print(H_1)\n",
    "coordinate1.transform(H_1)\n",
    "# o3d.visualization.draw_geometries([coordinate1, base_coordiate])\n",
    "\n",
    "R_2in1 = np.array([[0, -1, 0],\n",
    "          [-1, 0, 0],\n",
    "          [0, 0, -1]])\n",
    "R_2 = R_1.dot(R_2in1)\n",
    "H_2 = t3d.affines.compose(T_1, R_2, Z1)\n",
    "coordinate2.transform(H_2)\n",
    "o3d.visualization.draw_geometries([coordinate1, base_coordinate, coordinate2])\n",
    "rx_2, ry_2, rz_2 = t3d.euler.mat2euler(R_2, axes='sxyz')\n",
    "print(rx_2, ry_2, rz_2)"
   ],
   "metadata": {
    "collapsed": false,
    "pycharm": {
     "name": "#%%\n"
    }
   }
  },
  {
   "cell_type": "code",
   "execution_count": 4,
   "outputs": [],
   "source": [
    "\n"
   ],
   "metadata": {
    "collapsed": false,
    "pycharm": {
     "name": "#%%\n"
    }
   }
  }
 ],
 "metadata": {
  "kernelspec": {
   "display_name": "Python 3",
   "language": "python",
   "name": "python3"
  },
  "language_info": {
   "codemirror_mode": {
    "name": "ipython",
    "version": 2
   },
   "file_extension": ".py",
   "mimetype": "text/x-python",
   "name": "python",
   "nbconvert_exporter": "python",
   "pygments_lexer": "ipython2",
   "version": "2.7.6"
  }
 },
 "nbformat": 4,
 "nbformat_minor": 0
}