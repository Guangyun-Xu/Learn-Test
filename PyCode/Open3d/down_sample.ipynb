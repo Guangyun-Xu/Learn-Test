{
 "cells": [
  {
   "cell_type": "markdown",
   "metadata": {
    "collapsed": true,
    "pycharm": {
     "name": "#%% md\n"
    }
   },
   "source": [
    "对比open3d中各种降采样方法的效果\n",
    "\n"
   ]
  },
  {
   "cell_type": "code",
   "execution_count": 19,
   "outputs": [
    {
     "name": "stdout",
     "output_type": "stream",
     "text": [
      "0.5.0.0\n"
     ]
    }
   ],
   "source": [
    "import open3d as o3d\n",
    "__all__ = [o3d]\n",
    "print(o3d.__version__)"
   ],
   "metadata": {
    "collapsed": false,
    "pycharm": {
     "name": "#%%\n"
    }
   }
  },
  {
   "cell_type": "markdown",
   "source": [
    "加载深度图并转换为点云"
   ],
   "metadata": {
    "collapsed": false,
    "pycharm": {
     "name": "#%% md\n"
    }
   }
  },
  {
   "cell_type": "code",
   "execution_count": 20,
   "outputs": [
    {
     "name": "stdout",
     "output_type": "stream",
     "text": [
      "[[1. 0. 0. 0.]\n",
      " [0. 1. 0. 0.]\n",
      " [0. 0. 1. 0.]\n",
      " [0. 0. 0. 1.]]\n"
     ]
    }
   ],
   "source": [
    "import matplotlib.pyplot as plot\n",
    "import numpy as np\n",
    "depth_image_path = \"/media/yumi/Datas/6D_Dataset/BOP_Dataste/\" \\\n",
    "                   \"LM-O/train_pbr/000000/depth/000000.png\"\n",
    "depth_raw = o3d.read_image(depth_image_path)\n",
    "image_width = 640\n",
    "image_height = 480\n",
    "fx = 572.4114\n",
    "fy = 573.57043\n",
    "cx = 325.2611\n",
    "cy = 242.04899\n",
    "intrinsic = o3d.PinholeCameraIntrinsic(\n",
    "    image_width, image_height, fx, fy, cx, cy)\n",
    "extrinsic = np.identity(4)\n",
    "print(extrinsic)\n",
    "depth_scale = 10\n",
    "depth_trunc = 3000.0 # 超过depth_trunc的深度值将会被设为0"
   ],
   "metadata": {
    "collapsed": false,
    "pycharm": {
     "name": "#%%\n"
    }
   }
  },
  {
   "cell_type": "code",
   "execution_count": 21,
   "outputs": [
    {
     "name": "stdout",
     "output_type": "stream",
     "text": [
      "Image of size 640x480, with 1 channels.\n",
      "Use numpy.asarray to access buffer data.\n",
      "<class 'open3d.open3d.geometry.Image'>\n",
      "<class 'open3d.open3d.camera.PinholeCameraIntrinsic'>\n"
     ]
    }
   ],
   "source": [
    "np_depth = np.array(depth_raw)\n",
    "depth_raw = o3d.geometry.Image(np_depth)\n",
    "print(depth_raw)\n",
    "print(type(depth_raw))\n",
    "print(type(intrinsic))\n",
    "\n"
   ],
   "metadata": {
    "collapsed": false,
    "pycharm": {
     "name": "#%%\n"
    }
   }
  },
  {
   "cell_type": "code",
   "execution_count": 22,
   "outputs": [],
   "source": [
    "color = True\n",
    "pcd = o3d.create_point_cloud_from_depth_image(\n",
    "    depth=depth_raw, intrinsic=intrinsic, extrinsic=extrinsic,\n",
    "    depth_scale=depth_scale, depth_trunc=depth_trunc, stride=int(1))\n",
    "if not color:\n",
    "    pcd.paint_uniform_color([0, 255, 0])\n",
    "o3d.visualization.draw_geometries([pcd])\n",
    "\n"
   ],
   "metadata": {
    "collapsed": false,
    "pycharm": {
     "name": "#%%\n"
    }
   }
  },
  {
   "cell_type": "markdown",
   "source": [
    "voxel down sample 并返回降采样之后的点云索引\n",
    "索引是一个n*8的矩阵,每一行里面几个点云的索引"
   ],
   "metadata": {
    "collapsed": false,
    "pycharm": {
     "name": "#%% md\n"
    }
   }
  },
  {
   "cell_type": "code",
   "execution_count": 23,
   "outputs": [
    {
     "name": "stdout",
     "output_type": "stream",
     "text": [
      "<class 'open3d.open3d.geometry.PointCloud'>\n"
     ]
    }
   ],
   "source": [
    "print(type(pcd))\n",
    "max_bound = pcd.get_max_bound()\n",
    "min_bound = pcd.get_min_bound()\n",
    "voxel_size = 10\n",
    "pcd_dow, point_idx = o3d.voxel_down_sample_and_trace(\n",
    "    pcd, voxel_size=voxel_size,\n",
    "    min_bound=min_bound, max_bound=max_bound)\n",
    "if not color:\n",
    "    pcd.paint_uniform_color([0, 255, 0])\n",
    "o3d.visualization.draw_geometries([pcd_dow])\n",
    "# o3d.write_point_cloud(\"/home/yumi/Desktop/SampleDate/pcd_down0731.ply\", pcd_dow)\n"
   ],
   "metadata": {
    "collapsed": false,
    "pycharm": {
     "name": "#%%\n"
    }
   }
  },
  {
   "cell_type": "markdown",
   "source": [
    "每一行中点云的索引和降采样后点云的关系:\n",
    "降采样后的点和索引对应的点并不相同\n"
   ],
   "metadata": {
    "collapsed": false,
    "pycharm": {
     "name": "#%% md\n"
    }
   }
  },
  {
   "cell_type": "code",
   "execution_count": 25,
   "outputs": [
    {
     "name": "stdout",
     "output_type": "stream",
     "text": [
      "[    -1     -1     -1     -1     -1 227544     -1     -1]\n",
      "[362.18337498 295.08861458 714.29998779]\n",
      "[-1372.81388539 -1022.68434363  2423.39990234]\n"
     ]
    }
   ],
   "source": [
    "# 通过索引提取点云并输出坐标\n",
    "np_pcd_dow = np.asarray(pcd_dow.points)  # 将点云转换成numpy矩阵\n",
    "pcd_dow_point0 = pcd_dow.points[0]\n",
    "pcd_point291122 = pcd.points[1]\n",
    "print(point_idx[0])\n",
    "print(pcd_dow_point0)\n",
    "print(pcd_point291122)"
   ],
   "metadata": {
    "collapsed": false,
    "pycharm": {
     "name": "#%%\n"
    }
   }
  },
  {
   "cell_type": "code",
   "execution_count": 26,
   "outputs": [
    {
     "name": "stdout",
     "output_type": "stream",
     "text": [
      "[[-0.45336796  0.37352117 -3.60000992]\n",
      " [ 3.56300993  1.4873903  -3.30002213]\n",
      " [ 0.15123893 -0.01559465  0.3000145 ]\n",
      " [ 4.2110676   1.14498089  0.69997787]]\n",
      "[[2.05542504e-01 1.39518061e-01 1.29600714e+01]\n",
      " [1.26950398e+01 2.21232990e+00 1.08901460e+01]\n",
      " [2.28732149e-02 2.43193068e-04 9.00086977e-02]\n",
      " [1.77330904e+01 1.31098124e+00 4.89969025e-01]]\n",
      "[13.305131976707122, 25.79751569155538, 0.11312510573211378, 19.53404062637031]\n"
     ]
    }
   ],
   "source": [
    "row_idx = 54\n",
    "point_idx4 =point_idx[row_idx]\n",
    "point_set_4 = []\n",
    "for i , idx in enumerate(point_idx4):\n",
    "    if idx > 0 :\n",
    "        point = pcd.points[idx]\n",
    "        point_set_4.append(point)\n",
    "\n",
    "point_4 = pcd_dow.points[row_idx]\n",
    "distance = []\n",
    "# for i , point in enumerate(point_set_4):\n",
    "#     point = np.asarray(point)\n",
    "#     point_4 = np.asarray(point_4)\n",
    "#     distance1 = np.square((point_4[0]-point[0])) + \\\n",
    "#                 np.square((point_4[1]-point[1])) + \\\n",
    "#                 np.square((point_4[2]-point[2]))\n",
    "#     distance.append(distance1)\n",
    "#\n",
    "# print(distance)\n",
    "point_4_dis = point_set_4 - point_4\n",
    "print(point_4_dis)\n",
    "distance = np.square(point_4_dis)\n",
    "print(distance)\n",
    "point_distance = []\n",
    "for i , dis in enumerate(distance):\n",
    "    point_distance.append(dis.sum())\n",
    "print(point_distance)"
   ],
   "metadata": {
    "collapsed": false,
    "pycharm": {
     "name": "#%%\n"
    }
   }
  },
  {
   "cell_type": "markdown",
   "source": [
    "在全图中显示降采样的点和索引对应的点"
   ],
   "metadata": {
    "collapsed": false,
    "pycharm": {
     "name": "#%% md\n"
    }
   }
  },
  {
   "cell_type": "code",
   "execution_count": 27,
   "outputs": [],
   "source": [
    "mesh_sphere = o3d.create_mesh_sphere(radius=2.0)\n",
    "mesh_sphere.compute_vertex_normals()\n",
    "mesh_frame = o3d.create_mesh_coordinate_frame(size=100, origin=[0,0,0])\n",
    "mesh_sphere.paint_uniform_color([0,255,0])\n",
    "H = np.identity(4)\n",
    "\n",
    "for i , cord in enumerate(point_4):\n",
    "    H[i][3] = cord\n",
    "# print(H)\n",
    "mesh_sphere.transform(H)\n",
    "\n",
    "o3d.visualization.draw_geometries([mesh_sphere, mesh_frame])\n",
    "\n"
   ],
   "metadata": {
    "collapsed": false,
    "pycharm": {
     "name": "#%%\n"
    }
   }
  },
  {
   "cell_type": "code",
   "execution_count": 28,
   "outputs": [],
   "source": [
    "def creat_sphere_set(central_point, other_points,\n",
    "                    color = None ):\n",
    "    if color is None:\n",
    "\t    color = [[2550.5, 0, 0], [0, 255, 0]]\n",
    "    mesh_sphere_all = []\n",
    "    mesh_sphere_central = o3d.create_mesh_sphere(radius=1.0)\n",
    "    mesh_sphere_central.paint_uniform_color(color[0])\n",
    "    mesh_sphere_central.compute_vertex_normals()\n",
    "    H_central = np.identity(4)\n",
    "    for i , cord in enumerate(central_point):\n",
    "        H_central[i][3] = cord\n",
    "    mesh_sphere_central.transform(H_central)\n",
    "    mesh_sphere_all.append(mesh_sphere_central)\n",
    "\n",
    "\n",
    "    for i, point in enumerate(other_points):\n",
    "        mesh_sphere_other = o3d.create_mesh_sphere(radius=2.0)\n",
    "        mesh_sphere_other.paint_uniform_color(color[1])\n",
    "        mesh_sphere_other.compute_vertex_normals()\n",
    "        H_other = np.identity(4)\n",
    "        for i, cord in enumerate(point):\n",
    "            H_other[i][3] = cord\n",
    "        mesh_sphere_other.transform(H_other)\n",
    "        mesh_sphere_all.append(mesh_sphere_other)\n",
    "\n",
    "    return mesh_sphere_all\n",
    "\n",
    "mesh_sphere_all = creat_sphere_set(\n",
    "    point_4, point_set_4\n",
    ")\n",
    "# 将中心点与其他点用线连起来\n",
    "point_set =[point_4.tolist()]\n",
    "for i, point in enumerate(point_set_4):\n",
    "    point_set.append(point.tolist())\n",
    "\n",
    "line_set = []\n",
    "for i in range(len(point_set)):\n",
    "    if i != 0:\n",
    "        line_set.append([0,i])\n",
    "\n",
    "lines = o3d.LineSet()\n",
    "lines.points = o3d.Vector3dVector(point_set)\n",
    "lines.lines = o3d.Vector2iVector(line_set)\n",
    "#lines.paint_uniform_color([0,0,255])\n",
    "\n",
    "central_frame = o3d.create_mesh_coordinate_frame(size=100, origin=point_4)\n",
    "\n",
    "\n",
    "show_list = mesh_sphere_all\n",
    "show_list.append(lines)\n",
    "#pcd.paint_uniform_color([255,255,255])\n",
    "#show_list.append(pcd)\n",
    "#show_list.append(central_frame)\n",
    "o3d.visualization.draw_geometries(show_list)\n",
    "\n",
    "\n"
   ],
   "metadata": {
    "collapsed": false,
    "pycharm": {
     "name": "#%%\n"
    }
   }
  },
  {
   "cell_type": "markdown",
   "source": [
    "选择离网格中心最近的点作为采样点"
   ],
   "metadata": {
    "collapsed": false,
    "pycharm": {
     "name": "#%% md\n"
    }
   }
  },
  {
   "cell_type": "code",
   "execution_count": 29,
   "outputs": [],
   "source": [
    "idx_mask = point_idx > 0\n",
    "idx_true = idx_mask.nonzero()\n",
    "row_list = idx_true[0].tolist()\n",
    "col_list = idx_true[1].tolist()\n",
    "sampled_points_idx = []\n",
    "sampled_points_num = point_idx.shape[0]\n",
    "# 循环次数太多,速度过慢\n",
    "for i in range(sampled_points_num):\n",
    "    row_list_idx = row_list.index(i)\n",
    "    col_idx = col_list[row_list_idx]\n",
    "    sampled_points_idx.append(point_idx[i][col_idx])\n",
    "\n",
    "voxel_random_downsample = o3d.select_down_sample(pcd, sampled_points_idx)\n",
    "o3d.visualization.draw_geometries([voxel_random_downsample])"
   ],
   "metadata": {
    "collapsed": false,
    "pycharm": {
     "name": "#%%\n"
    }
   }
  },
  {
   "cell_type": "code",
   "execution_count": 31,
   "outputs": [],
   "source": [
    "# 选择每一行中,数值最大的索引\n",
    "max_idx_in_row = np.max(point_idx, axis=1)\n",
    "voxel_max_idx_sample = o3d.select_down_sample(pcd, max_idx_in_row)\n",
    "o3d.visualization.draw_geometries([voxel_max_idx_sample])\n",
    "\n",
    "\n"
   ],
   "metadata": {
    "collapsed": false,
    "pycharm": {
     "name": "#%%\n"
    }
   }
  },
  {
   "cell_type": "markdown",
   "source": [
    "如果采样后的点数大于指定值,通过KNN选择指定点数的点云"
   ],
   "metadata": {
    "collapsed": false,
    "pycharm": {
     "name": "#%% md\n"
    }
   }
  },
  {
   "cell_type": "code",
   "execution_count": 32,
   "outputs": [
    {
     "name": "stdout",
     "output_type": "stream",
     "text": [
      "43161\n"
     ]
    }
   ],
   "source": [
    "print(len(sampled_points_idx))\n",
    "point_num = len(sampled_points_idx)\n",
    "max_point_num = 20000\n",
    "\n",
    "# 索引的大小和距离无关\n",
    "if point_num > max_point_num:\n",
    "    remove_num = max_point_num - point_num\n",
    "    retain_idx = sampled_points_idx[:remove_num]\n",
    "    remove_idx = sampled_points_idx[max_point_num:]\n",
    "    # np.array(voxel_random_downsample.colors)[remove_idx[1:], :] = [0, 0, 1]\n",
    "    # np.array(voxel_random_downsample.colors)[retain_idx[1:], :] = [0, 1, 0]\n",
    "    retain_points = o3d.select_down_sample(pcd, retain_idx)\n",
    "    remove_points = o3d.select_down_sample(pcd, remove_idx)\n",
    "    o3d.visualization.draw_geometries([retain_points])\n",
    "    o3d.visualization.draw_geometries([remove_points])\n"
   ],
   "metadata": {
    "collapsed": false,
    "pycharm": {
     "name": "#%%\n"
    }
   }
  },
  {
   "cell_type": "code",
   "execution_count": 33,
   "outputs": [],
   "source": [
    "\n",
    "if point_num > max_point_num:\n",
    "    pcd_dow_tree = o3d.KDTreeFlann(voxel_random_downsample)\n",
    "    k, idx , _ = pcd_dow_tree.search_knn_vector_3d([0,0,0], 20000)\n",
    "    retain_points = o3d.select_down_sample(voxel_random_downsample, idx)\n",
    "    remove_points = o3d.select_down_sample(voxel_random_downsample, idx, True)\n",
    "    o3d.visualization.draw_geometries([retain_points])\n",
    "    o3d.visualization.draw_geometries([remove_points])\n",
    "\n"
   ],
   "metadata": {
    "collapsed": false,
    "pycharm": {
     "name": "#%%\n"
    }
   }
  },
  {
   "cell_type": "markdown",
   "source": [
    "恢复原图的索引"
   ],
   "metadata": {
    "collapsed": false,
    "pycharm": {
     "name": "#%% md\n"
    }
   }
  },
  {
   "cell_type": "code",
   "execution_count": null,
   "outputs": [],
   "source": [
    "original_idx = sampled_points_idx\n",
    "print(\"original idx len:{}\".format(len(original_idx)))\n",
    "idx = np.asarray(idx).tolist()\n",
    "original_idx = np.asarray(original_idx)\n",
    "after_KNN = original_idx[idx]\n",
    "print(\"after KNN len :{}\".format(len(after_KNN)))\n",
    "after_KNN_points = o3d.select_down_sample(pcd, after_KNN)\n",
    "o3d.visualization.draw_geometries([after_KNN_points])\n",
    "\n",
    "\n"
   ],
   "metadata": {
    "collapsed": false,
    "pycharm": {
     "name": "#%%\n"
    }
   }
  },
  {
   "cell_type": "markdown",
   "source": [
    "将原图的索引放到color中,降采样后再取出"
   ],
   "metadata": {
    "collapsed": false,
    "pycharm": {
     "name": "#%% md\n"
    }
   }
  },
  {
   "cell_type": "code",
   "execution_count": null,
   "outputs": [],
   "source": [],
   "metadata": {
    "collapsed": false,
    "pycharm": {
     "name": "#%%\n"
    }
   }
  },
  {
   "cell_type": "code",
   "execution_count": 36,
   "outputs": [],
   "source": [
    "# 保留1.5米以内的点\n",
    "pcd_tree = o3d.geometry.KDTreeFlann(pcd)\n",
    "k, pcd_radius_1500_idx , pcd_radius_1500_idx_what = pcd_tree.search_radius_vector_3d([0,0,0], 1500)\n",
    "pcd_1500 = o3d.select_down_sample(pcd, pcd_radius_1500_idx)\n",
    "o3d.visualization.draw_geometries([pcd_1500])"
   ],
   "metadata": {
    "collapsed": false,
    "pycharm": {
     "name": "#%%\n"
    }
   }
  },
  {
   "cell_type": "code",
   "execution_count": null,
   "outputs": [],
   "source": [
    "pcd_1500_idx = np.asarray(pcd_radius_1500_idx)\n",
    "pcd_1500_idx = np.array([pcd_1500_idx, pcd_1500_idx, pcd_1500_idx]).transpose()\n",
    "color_idx = pcd_1500_idx.tolist()\n",
    "pcd_1500.colors = o3d.Vector3dVector(color_idx)\n",
    "idx_from_color = np.asarray(pcd_1500.colors)\n",
    "pcd_1500_tree = o3d.geometry.KDTreeFlann(pcd_1500)\n",
    "k, pcd_KNN_100_idx, _ = pcd_1500_tree.search_knn_vector_3d([0,0,0], 100)\n",
    "pcd_KNN_100 = o3d.select_down_sample(pcd_1500, pcd_KNN_100_idx)\n",
    "idx_original = np.asarray(pcd_KNN_100.colors).astype(np.int)\n",
    "idx_original = idx_original[:,0].tolist()\n"
   ],
   "metadata": {
    "collapsed": false,
    "pycharm": {
     "name": "#%%\n"
    }
   }
  },
  {
   "cell_type": "code",
   "execution_count": null,
   "outputs": [],
   "source": [
    "\n"
   ],
   "metadata": {
    "collapsed": false,
    "pycharm": {
     "name": "#%%\n"
    }
   }
  }
 ],
 "metadata": {
  "kernelspec": {
   "display_name": "Python 3",
   "language": "python",
   "name": "python3"
  },
  "language_info": {
   "codemirror_mode": {
    "name": "ipython",
    "version": 2
   },
   "file_extension": ".py",
   "mimetype": "text/x-python",
   "name": "python",
   "nbconvert_exporter": "python",
   "pygments_lexer": "ipython2",
   "version": "2.7.6"
  }
 },
 "nbformat": 4,
 "nbformat_minor": 0
}